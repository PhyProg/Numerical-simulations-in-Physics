{
 "cells": [
  {
   "cell_type": "markdown",
   "metadata": {},
   "source": [
    "# Absorption spectra and potential energy curves in $Br_2$"
   ]
  },
  {
   "cell_type": "markdown",
   "metadata": {},
   "source": [
    "# Introduction"
   ]
  },
  {
   "cell_type": "markdown",
   "metadata": {},
   "source": [
    "**Absorption spectroscopy** represent specroscopy techniques used to measure absorption of radiation by interaction with sample as function of frequency or wavelength. This dependence is *absorption spectra*. It's used in analytic chemistry to determine composition of sample. \n",
    "\n",
    "*Absorption spectra* is fraction of ingoing radiation that is absorbed by sample in some range of frequencies. It's determined by atomic and molecular composition of substance. The highest probability of absorption is at frequencies that correspond to energy difference between atomic/molecular energy levels, defined by quantum mechanical changes. Rotational spectra correspond to microwave part of spectra, while vibrational correspond to IR. Depending on the environment, spectra will have different width and shape. \n",
    "\n",
    "Using Born-Oppenheimer approximation, we can sepparate motion of electron and nucleus:\n",
    "\n",
    "\\begin{equation}\n",
    "\\begin{aligned}\n",
    "\\psi = \\psi_e \\psi_r \\psi_v\\\\\n",
    "E = E_e + E_r + E_v\n",
    "\\end{aligned}\n",
    "\\end{equation}\n",
    "\n",
    "Radiation passing through matter can be reflected, absorbed or transmited. Each of these processes is described by ratio of intensities (i.e. $a = \\frac{I_a}{I_0}$), and they satisfy relation:\n",
    "\n",
    "\\begin{equation}\n",
    "a + r + t = 1\n",
    "\\end{equation}\n",
    "\n",
    "We use transmition coefficient to define extinction:\n",
    "\n",
    "\\begin{equation}\n",
    "\\epsilon = - \\ln t\n",
    "\\end{equation}\n",
    "\n",
    "Maxima of absorption follow normal distribution around absorption maxima:\n",
    "\n",
    "\\begin{equation}\n",
    "|\\psi_0|^2 = \\sqrt{\\frac{\\alpha}{\\pi}} e ^ {-\\alpha (r - r_e)^2}\n",
    "\\end{equation}\n",
    "\n",
    "with $\\alpha = \\frac{\\hbar \\omega}{\\mu}$, and depends of molecular parameters $\\omega$, $\\mu$."
   ]
  },
  {
   "cell_type": "markdown",
   "metadata": {},
   "source": [
    "# Analysis of extinction"
   ]
  },
  {
   "cell_type": "code",
   "execution_count": 42,
   "metadata": {},
   "outputs": [],
   "source": [
    "# Libraries\n",
    "\n",
    "import numpy as np\n",
    "import pandas as pd\n",
    "import matplotlib.pyplot as plt\n",
    "\n",
    "from scipy.constants import h, c, eV\n",
    "from scipy.optimize import curve_fit"
   ]
  },
  {
   "cell_type": "code",
   "execution_count": 13,
   "metadata": {},
   "outputs": [],
   "source": [
    "data = pd.read_csv(\"../data/abs_spec.csv\", \n",
    "                   usecols=[\"e1\", \"e2\", \"e3\", \"e4\", \"e5\", \"l\"])"
   ]
  },
  {
   "cell_type": "code",
   "execution_count": 14,
   "metadata": {},
   "outputs": [
    {
     "data": {
      "text/html": [
       "<div>\n",
       "<style scoped>\n",
       "    .dataframe tbody tr th:only-of-type {\n",
       "        vertical-align: middle;\n",
       "    }\n",
       "\n",
       "    .dataframe tbody tr th {\n",
       "        vertical-align: top;\n",
       "    }\n",
       "\n",
       "    .dataframe thead th {\n",
       "        text-align: right;\n",
       "    }\n",
       "</style>\n",
       "<table border=\"1\" class=\"dataframe\">\n",
       "  <thead>\n",
       "    <tr style=\"text-align: right;\">\n",
       "      <th></th>\n",
       "      <th>e1</th>\n",
       "      <th>e2</th>\n",
       "      <th>e3</th>\n",
       "      <th>e4</th>\n",
       "      <th>e5</th>\n",
       "      <th>l</th>\n",
       "    </tr>\n",
       "  </thead>\n",
       "  <tbody>\n",
       "    <tr>\n",
       "      <th>0</th>\n",
       "      <td>0.112</td>\n",
       "      <td>0.163</td>\n",
       "      <td>0.120</td>\n",
       "      <td>0.160</td>\n",
       "      <td>0.110</td>\n",
       "      <td>350</td>\n",
       "    </tr>\n",
       "    <tr>\n",
       "      <th>1</th>\n",
       "      <td>0.243</td>\n",
       "      <td>0.258</td>\n",
       "      <td>0.270</td>\n",
       "      <td>0.282</td>\n",
       "      <td>0.294</td>\n",
       "      <td>360</td>\n",
       "    </tr>\n",
       "    <tr>\n",
       "      <th>2</th>\n",
       "      <td>0.463</td>\n",
       "      <td>0.492</td>\n",
       "      <td>0.527</td>\n",
       "      <td>0.498</td>\n",
       "      <td>0.528</td>\n",
       "      <td>370</td>\n",
       "    </tr>\n",
       "    <tr>\n",
       "      <th>3</th>\n",
       "      <td>0.797</td>\n",
       "      <td>0.859</td>\n",
       "      <td>0.903</td>\n",
       "      <td>0.825</td>\n",
       "      <td>0.885</td>\n",
       "      <td>380</td>\n",
       "    </tr>\n",
       "    <tr>\n",
       "      <th>4</th>\n",
       "      <td>1.243</td>\n",
       "      <td>1.331</td>\n",
       "      <td>1.391</td>\n",
       "      <td>1.265</td>\n",
       "      <td>1.335</td>\n",
       "      <td>390</td>\n",
       "    </tr>\n",
       "    <tr>\n",
       "      <th>5</th>\n",
       "      <td>1.687</td>\n",
       "      <td>1.772</td>\n",
       "      <td>1.870</td>\n",
       "      <td>1.702</td>\n",
       "      <td>1.909</td>\n",
       "      <td>400</td>\n",
       "    </tr>\n",
       "    <tr>\n",
       "      <th>6</th>\n",
       "      <td>2.023</td>\n",
       "      <td>2.105</td>\n",
       "      <td>2.221</td>\n",
       "      <td>2.020</td>\n",
       "      <td>2.218</td>\n",
       "      <td>410</td>\n",
       "    </tr>\n",
       "    <tr>\n",
       "      <th>7</th>\n",
       "      <td>2.146</td>\n",
       "      <td>2.206</td>\n",
       "      <td>2.295</td>\n",
       "      <td>2.140</td>\n",
       "      <td>2.281</td>\n",
       "      <td>420</td>\n",
       "    </tr>\n",
       "    <tr>\n",
       "      <th>8</th>\n",
       "      <td>2.076</td>\n",
       "      <td>2.169</td>\n",
       "      <td>2.269</td>\n",
       "      <td>2.100</td>\n",
       "      <td>2.276</td>\n",
       "      <td>430</td>\n",
       "    </tr>\n",
       "    <tr>\n",
       "      <th>9</th>\n",
       "      <td>1.913</td>\n",
       "      <td>2.018</td>\n",
       "      <td>2.066</td>\n",
       "      <td>1.949</td>\n",
       "      <td>1.986</td>\n",
       "      <td>440</td>\n",
       "    </tr>\n",
       "    <tr>\n",
       "      <th>10</th>\n",
       "      <td>1.735</td>\n",
       "      <td>1.892</td>\n",
       "      <td>1.879</td>\n",
       "      <td>1.778</td>\n",
       "      <td>1.835</td>\n",
       "      <td>450</td>\n",
       "    </tr>\n",
       "    <tr>\n",
       "      <th>11</th>\n",
       "      <td>1.601</td>\n",
       "      <td>1.668</td>\n",
       "      <td>1.723</td>\n",
       "      <td>1.637</td>\n",
       "      <td>1.680</td>\n",
       "      <td>460</td>\n",
       "    </tr>\n",
       "    <tr>\n",
       "      <th>12</th>\n",
       "      <td>1.496</td>\n",
       "      <td>1.568</td>\n",
       "      <td>1.616</td>\n",
       "      <td>1.523</td>\n",
       "      <td>1.548</td>\n",
       "      <td>470</td>\n",
       "    </tr>\n",
       "    <tr>\n",
       "      <th>13</th>\n",
       "      <td>1.404</td>\n",
       "      <td>1.469</td>\n",
       "      <td>1.507</td>\n",
       "      <td>1.436</td>\n",
       "      <td>1.466</td>\n",
       "      <td>480</td>\n",
       "    </tr>\n",
       "    <tr>\n",
       "      <th>14</th>\n",
       "      <td>1.317</td>\n",
       "      <td>1.367</td>\n",
       "      <td>1.399</td>\n",
       "      <td>1.342</td>\n",
       "      <td>1.374</td>\n",
       "      <td>490</td>\n",
       "    </tr>\n",
       "    <tr>\n",
       "      <th>15</th>\n",
       "      <td>1.200</td>\n",
       "      <td>1.242</td>\n",
       "      <td>1.266</td>\n",
       "      <td>1.225</td>\n",
       "      <td>1.259</td>\n",
       "      <td>500</td>\n",
       "    </tr>\n",
       "    <tr>\n",
       "      <th>16</th>\n",
       "      <td>1.049</td>\n",
       "      <td>1.091</td>\n",
       "      <td>1.122</td>\n",
       "      <td>1.086</td>\n",
       "      <td>1.107</td>\n",
       "      <td>510</td>\n",
       "    </tr>\n",
       "    <tr>\n",
       "      <th>17</th>\n",
       "      <td>0.883</td>\n",
       "      <td>0.919</td>\n",
       "      <td>0.936</td>\n",
       "      <td>0.924</td>\n",
       "      <td>0.939</td>\n",
       "      <td>520</td>\n",
       "    </tr>\n",
       "    <tr>\n",
       "      <th>18</th>\n",
       "      <td>0.715</td>\n",
       "      <td>0.744</td>\n",
       "      <td>0.767</td>\n",
       "      <td>0.754</td>\n",
       "      <td>0.770</td>\n",
       "      <td>530</td>\n",
       "    </tr>\n",
       "    <tr>\n",
       "      <th>19</th>\n",
       "      <td>0.563</td>\n",
       "      <td>0.586</td>\n",
       "      <td>0.602</td>\n",
       "      <td>0.600</td>\n",
       "      <td>0.624</td>\n",
       "      <td>540</td>\n",
       "    </tr>\n",
       "    <tr>\n",
       "      <th>20</th>\n",
       "      <td>0.439</td>\n",
       "      <td>0.456</td>\n",
       "      <td>0.463</td>\n",
       "      <td>0.477</td>\n",
       "      <td>0.491</td>\n",
       "      <td>550</td>\n",
       "    </tr>\n",
       "    <tr>\n",
       "      <th>21</th>\n",
       "      <td>0.335</td>\n",
       "      <td>0.346</td>\n",
       "      <td>0.352</td>\n",
       "      <td>0.377</td>\n",
       "      <td>0.382</td>\n",
       "      <td>560</td>\n",
       "    </tr>\n",
       "    <tr>\n",
       "      <th>22</th>\n",
       "      <td>0.251</td>\n",
       "      <td>0.261</td>\n",
       "      <td>0.271</td>\n",
       "      <td>0.298</td>\n",
       "      <td>0.304</td>\n",
       "      <td>570</td>\n",
       "    </tr>\n",
       "    <tr>\n",
       "      <th>23</th>\n",
       "      <td>0.193</td>\n",
       "      <td>0.199</td>\n",
       "      <td>0.209</td>\n",
       "      <td>0.242</td>\n",
       "      <td>0.249</td>\n",
       "      <td>580</td>\n",
       "    </tr>\n",
       "    <tr>\n",
       "      <th>24</th>\n",
       "      <td>0.147</td>\n",
       "      <td>0.154</td>\n",
       "      <td>0.159</td>\n",
       "      <td>0.193</td>\n",
       "      <td>0.208</td>\n",
       "      <td>590</td>\n",
       "    </tr>\n",
       "    <tr>\n",
       "      <th>25</th>\n",
       "      <td>0.125</td>\n",
       "      <td>0.128</td>\n",
       "      <td>0.144</td>\n",
       "      <td>0.169</td>\n",
       "      <td>0.165</td>\n",
       "      <td>600</td>\n",
       "    </tr>\n",
       "    <tr>\n",
       "      <th>26</th>\n",
       "      <td>0.114</td>\n",
       "      <td>0.120</td>\n",
       "      <td>0.127</td>\n",
       "      <td>0.151</td>\n",
       "      <td>0.160</td>\n",
       "      <td>610</td>\n",
       "    </tr>\n",
       "  </tbody>\n",
       "</table>\n",
       "</div>"
      ],
      "text/plain": [
       "       e1     e2     e3     e4     e5    l\n",
       "0   0.112  0.163  0.120  0.160  0.110  350\n",
       "1   0.243  0.258  0.270  0.282  0.294  360\n",
       "2   0.463  0.492  0.527  0.498  0.528  370\n",
       "3   0.797  0.859  0.903  0.825  0.885  380\n",
       "4   1.243  1.331  1.391  1.265  1.335  390\n",
       "5   1.687  1.772  1.870  1.702  1.909  400\n",
       "6   2.023  2.105  2.221  2.020  2.218  410\n",
       "7   2.146  2.206  2.295  2.140  2.281  420\n",
       "8   2.076  2.169  2.269  2.100  2.276  430\n",
       "9   1.913  2.018  2.066  1.949  1.986  440\n",
       "10  1.735  1.892  1.879  1.778  1.835  450\n",
       "11  1.601  1.668  1.723  1.637  1.680  460\n",
       "12  1.496  1.568  1.616  1.523  1.548  470\n",
       "13  1.404  1.469  1.507  1.436  1.466  480\n",
       "14  1.317  1.367  1.399  1.342  1.374  490\n",
       "15  1.200  1.242  1.266  1.225  1.259  500\n",
       "16  1.049  1.091  1.122  1.086  1.107  510\n",
       "17  0.883  0.919  0.936  0.924  0.939  520\n",
       "18  0.715  0.744  0.767  0.754  0.770  530\n",
       "19  0.563  0.586  0.602  0.600  0.624  540\n",
       "20  0.439  0.456  0.463  0.477  0.491  550\n",
       "21  0.335  0.346  0.352  0.377  0.382  560\n",
       "22  0.251  0.261  0.271  0.298  0.304  570\n",
       "23  0.193  0.199  0.209  0.242  0.249  580\n",
       "24  0.147  0.154  0.159  0.193  0.208  590\n",
       "25  0.125  0.128  0.144  0.169  0.165  600\n",
       "26  0.114  0.120  0.127  0.151  0.160  610"
      ]
     },
     "execution_count": 14,
     "metadata": {},
     "output_type": "execute_result"
    }
   ],
   "source": [
    "data"
   ]
  },
  {
   "cell_type": "code",
   "execution_count": 18,
   "metadata": {},
   "outputs": [],
   "source": [
    "keys = [\"e1\", \"e2\", \"e3\", \"e4\", \"e5\"]\n",
    "e = np.mean([data[key].values.astype(np.float64) \n",
    "             for key in keys], axis=0)"
   ]
  },
  {
   "cell_type": "code",
   "execution_count": 19,
   "metadata": {},
   "outputs": [
    {
     "data": {
      "text/plain": [
       "array([0.133 , 0.2694, 0.5016, 0.8538, 1.313 , 1.788 , 2.1174, 2.2136,\n",
       "       2.178 , 1.9864, 1.8238, 1.6618, 1.5502, 1.4564, 1.3598, 1.2384,\n",
       "       1.091 , 0.9202, 0.75  , 0.595 , 0.4652, 0.3584, 0.277 , 0.2184,\n",
       "       0.1722, 0.1462, 0.1344])"
      ]
     },
     "execution_count": 19,
     "metadata": {},
     "output_type": "execute_result"
    }
   ],
   "source": [
    "e"
   ]
  },
  {
   "cell_type": "code",
   "execution_count": 20,
   "metadata": {},
   "outputs": [],
   "source": [
    "l = data.l.values"
   ]
  },
  {
   "cell_type": "code",
   "execution_count": 26,
   "metadata": {},
   "outputs": [
    {
     "data": {
      "image/png": "[encoded data removed]",
      "text/plain": [
       "<Figure size 1080x288 with 1 Axes>"
      ]
     },
     "metadata": {
      "needs_background": "light"
     },
     "output_type": "display_data"
    }
   ],
   "source": [
    "# visualization\n",
    "\n",
    "fig, ax = plt.subplots()\n",
    "\n",
    "fig.set_figwidth(15)\n",
    "\n",
    "ax.plot(l, e, color='r')\n",
    "ax.scatter(l, e, edgecolor='k')\n",
    "\n",
    "ax.set_ylabel(\"Extinction\")\n",
    "ax.set_xlabel(r\"$\\lambda$[nm]\")\n",
    "\n",
    "ax.grid()"
   ]
  },
  {
   "cell_type": "code",
   "execution_count": 40,
   "metadata": {},
   "outputs": [],
   "source": [
    "energy = (h * c) / (l * eV) * 10 ** 9"
   ]
  },
  {
   "cell_type": "code",
   "execution_count": 41,
   "metadata": {},
   "outputs": [
    {
     "data": {
      "image/png": "[encoded data removed]",
      "text/plain": [
       "<Figure size 1080x288 with 1 Axes>"
      ]
     },
     "metadata": {
      "needs_background": "light"
     },
     "output_type": "display_data"
    }
   ],
   "source": [
    "# visualization\n",
    "\n",
    "fig, ax = plt.subplots()\n",
    "\n",
    "fig.set_figwidth(15)\n",
    "\n",
    "ax.plot(energy, e, color='r')\n",
    "ax.scatter(energy, e, edgecolor='k')\n",
    "\n",
    "ax.set_ylabel(\"Extinction\")\n",
    "ax.set_xlabel(r\"Energy[eV]\")\n",
    "\n",
    "ax.grid()"
   ]
  },
  {
   "cell_type": "code",
   "execution_count": 75,
   "metadata": {},
   "outputs": [],
   "source": [
    "def two_gaussians(x, *args):\n",
    "    return args[0] * np.exp(-(x - args[2]) ** 2 / (args[4]) ** 2) + \n",
    "           args[1] * np.exp(-(x - args[3]) ** 2 / (args[5]) ** 2)"
   ]
  },
  {
   "cell_type": "code",
   "execution_count": 76,
   "metadata": {},
   "outputs": [],
   "source": [
    "def gaussian(x, *args):\n",
    "    return args[0] * np.exp(-(x - args[1]) ** 2 / (args[2])**2)"
   ]
  },
  {
   "cell_type": "code",
   "execution_count": 83,
   "metadata": {},
   "outputs": [],
   "source": [
    "popt, pcov = curve_fit(two_gaussians, energy, e,\n",
    "                      p0=(1.04897438, 2.10120017, 2.51285511, 2.97047033, 0.29155683, 0.3135588 ),\n",
    "                      maxfev=8000,\n",
    "                      bounds=([0.8, 0.8, 2.4, 2.7, 0.2, 0.2], \n",
    "                              [2, 3, 2.8, 3.1, 1.5, 1.5]))"
   ]
  },
  {
   "cell_type": "code",
   "execution_count": 84,
   "metadata": {},
   "outputs": [
    {
     "data": {
      "text/plain": [
       "array([1.04897358, 2.10120085, 2.51285484, 2.97047018, 0.29155663,\n",
       "       0.31355891])"
      ]
     },
     "execution_count": 84,
     "metadata": {},
     "output_type": "execute_result"
    }
   ],
   "source": [
    "popt"
   ]
  },
  {
   "cell_type": "code",
   "execution_count": 87,
   "metadata": {},
   "outputs": [
    {
     "data": {
      "image/png": "[encoded data removed]",
      "text/plain": [
       "<Figure size 1080x288 with 1 Axes>"
      ]
     },
     "metadata": {
      "needs_background": "light"
     },
     "output_type": "display_data"
    }
   ],
   "source": [
    "x = np.linspace(2, 3.5, 100)\n",
    "\n",
    "# visualization\n",
    "\n",
    "fig, ax = plt.subplots()\n",
    "\n",
    "fig.set_figwidth(15)\n",
    "\n",
    "ax.plot(energy, e, color='r')\n",
    "ax.scatter(energy, e, edgecolor='k')\n",
    "\n",
    "ax.plot(x, gaussian(x, popt[0], popt[2], popt[4]))\n",
    "ax.plot(x, gaussian(x, popt[1], popt[3], popt[5]))\n",
    "\n",
    "ax.set_ylabel(\"Extinction\")\n",
    "ax.set_xlabel(r\"Energy[eV]\")\n",
    "\n",
    "ax.grid()\n",
    "\n"
   ]
  },
  {
   "cell_type": "code",
   "execution_count": 86,
   "metadata": {},
   "outputs": [],
   "source": [
    "# Half width\n",
    "\n",
    "hw_1 = popt[4]\n",
    "h2_2 = popt[5]"
   ]
  },
  {
   "cell_type": "markdown",
   "metadata": {},
   "source": [
    "# What next??"
   ]
  },
  {
   "cell_type": "code",
   "execution_count": null,
   "metadata": {},
   "outputs": [],
   "source": []
  }
 ],
 "metadata": {
  "kernelspec": {
   "display_name": "Python 3",
   "language": "python",
   "name": "python3"
  },
  "language_info": {
   "codemirror_mode": {
    "name": "ipython",
    "version": 3
   },
   "file_extension": ".py",
   "mimetype": "text/x-python",
   "name": "python",
   "nbconvert_exporter": "python",
   "pygments_lexer": "ipython3",
   "version": "3.7.1"
  }
 },
 "nbformat": 4,
 "nbformat_minor": 2
}
