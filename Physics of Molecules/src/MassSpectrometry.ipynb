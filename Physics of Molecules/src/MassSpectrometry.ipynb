{
 "cells": [
  {
   "cell_type": "markdown",
   "metadata": {},
   "source": [
    "# Mass spectrometry"
   ]
  },
  {
   "cell_type": "markdown",
   "metadata": {},
   "source": [
    "# Introduction"
   ]
  },
  {
   "cell_type": "markdown",
   "metadata": {},
   "source": [
    "**Mass spectrometry** is technique to analyze molecules based on their mass (mass to charge ratio, to be precise). First step is to ionize molecules. Later they are separated in space, after which they go to detector. Using mass spectrometry, one can determine:\n",
    "\n",
    "    o Composition of unknown sample\n",
    "    o Isotopic structure of sample\n",
    "    o Structure of molecules\n",
    "    o Molar mass of molecules\n",
    "    o Quantity of specified matter in sample\n",
    "    o Physical and chemical properties of matter\n",
    " \n",
    "Ionizator may cause fragmentation of molecules, which is useful to determine composition of molecules. Common ways of ionization are: \n",
    "    \n",
    "    o Fast atom bombardment, Fast ion bombardment\n",
    "        Using atoms or ions with energy ~keV, usually argon, xenon. \n",
    "    o Chemical ionization\n",
    "        Sample in gas state is mixed with other matter in gas state, which is later bombed with electrons. \n",
    "    o Electro-Spray ionization\n",
    "    o Matrix-assisted laser desorption/ionization\n",
    "        Sample is dissolved in matrix, which is later acted by laser. Matrix protects sample from laser. By evaporation, matrix ionize sample. \n",
    "        \n",
    "For spectral analysis, magnetic sector analyzators are used. Using two holes, we select which ions go in and out. "
   ]
  },
  {
   "cell_type": "markdown",
   "metadata": {},
   "source": [
    "# Preprocessing"
   ]
  },
  {
   "cell_type": "code",
   "execution_count": 1,
   "metadata": {},
   "outputs": [],
   "source": [
    "# Libraries...\n",
    "\n",
    "import numpy as np\n",
    "import matplotlib.pyplot as plt\n",
    "import pandas as pd"
   ]
  },
  {
   "cell_type": "code",
   "execution_count": 2,
   "metadata": {},
   "outputs": [],
   "source": [
    "# Load data... lucky for us, numpy handles .dat files as well :)\n",
    "\n",
    "data_1 = np.loadtxt(\"../data/Spectar I.dat\")\n",
    "data_2 = np.loadtxt(\"../data/Spectar II.dat\")"
   ]
  },
  {
   "cell_type": "markdown",
   "metadata": {},
   "source": [
    "### Plot data"
   ]
  },
  {
   "cell_type": "code",
   "execution_count": 3,
   "metadata": {},
   "outputs": [
    {
     "data": {
      "text/plain": [
       "[<matplotlib.lines.Line2D at 0xa37e694c18>]"
      ]
     },
     "execution_count": 3,
     "metadata": {},
     "output_type": "execute_result"
    },
    {
     "data": {
      "image/png": "[encoded data removed]",
      "text/plain": [
       "<Figure size 1080x360 with 2 Axes>"
      ]
     },
     "metadata": {
      "needs_background": "light"
     },
     "output_type": "display_data"
    }
   ],
   "source": [
    "fig, ax = plt.subplots(1, 2)\n",
    "\n",
    "fig.set_figheight(5)\n",
    "fig.set_figwidth(15)\n",
    "\n",
    "for i in range(2):\n",
    "    ax[i].set_ylim(-1e-13, 2.5e-9)\n",
    "    ax[i].grid()\n",
    "\n",
    "ax[0].set_title(\"Air spectre\")\n",
    "ax[1].set_title(\"Air and Diethyl ether spectre\")\n",
    "\n",
    "ax[0].plot(data_1[:,0], data_1[:,1])\n",
    "ax[1].plot(data_2[:,0], data_2[:,1])"
   ]
  },
  {
   "cell_type": "markdown",
   "metadata": {},
   "source": [
    "### Identification\n",
    "\n",
    "In air spectre, we identify maxima at: ..."
   ]
  },
  {
   "cell_type": "code",
   "execution_count": 14,
   "metadata": {},
   "outputs": [],
   "source": [
    "# Put them into dictionary...\n",
    "\n",
    "dict_air = {\n",
    "    \"mass\": \n",
    "        np.array([\n",
    "            2.04,\n",
    "            14.07, \n",
    "            16.047,\n",
    "            17.091,\n",
    "            17.791,\n",
    "            28.14, \n",
    "            30.93, \n",
    "            31.977, \n",
    "            40.930, \n",
    "            43.953\n",
    "        ]),\n",
    "    \"intensity\": \n",
    "        np.array([\n",
    "            2.794e-11,\n",
    "            1.2375e-10, \n",
    "            7.1856e-11,\n",
    "            1.1176e-10,\n",
    "            2.1956e-10, \n",
    "            1.996e-9, \n",
    "            5.988e-11, \n",
    "            4.1517e-10, \n",
    "            4.7904e-11, \n",
    "            3.5928e-11\n",
    "        ]),\n",
    "    \"formula\": [\n",
    "        \"H2+\",\n",
    "        \"N-\", \n",
    "        \"O-\", \n",
    "        \"OH-\",\n",
    "        \"H2O\",\n",
    "        \"N2\", \n",
    "        \"NO\", \n",
    "        \"O2\", \n",
    "        \"Ar\", \n",
    "        \"CO2\"\n",
    "        ]\n",
    "}"
   ]
  },
  {
   "cell_type": "markdown",
   "metadata": {},
   "source": [
    "In diethyl ethre and air spectre, we identify maxima at: ..."
   ]
  },
  {
   "cell_type": "code",
   "execution_count": 31,
   "metadata": {},
   "outputs": [],
   "source": [
    "dict_de_and_air = {\n",
    "    \"mass\": \n",
    "        np.array([\n",
    "            2.3973, \n",
    "            14.024, \n",
    "            15.103, \n",
    "            15.942, \n",
    "            17.021, \n",
    "            17.979, \n",
    "            26.010, \n",
    "            27.209, \n",
    "            28.048, \n",
    "            29.007, \n",
    "            3.1164e+01, \n",
    "            4.1113e+01,\n",
    "            4.3953e+01,\n",
    "            4.3985e+01,\n",
    "            4.5068e+01,\n",
    "            5.9092e+01,\n",
    "            7.4075e+01\n",
    "        ]),\n",
    "    \"intensity\": \n",
    "        np.array([\n",
    "            1.0798e-09, \n",
    "            7.3620e-11, \n",
    "            2.6994e-10, \n",
    "            3.0266e-10, \n",
    "            5.3170e-10, \n",
    "            1.7505e-09, \n",
    "            1.8405e-10, \n",
    "            4.3354e-10, \n",
    "            9.2843e-10, \n",
    "            8.8344e-10, \n",
    "            1.8814e-09, \n",
    "            2.8221e-10,\n",
    "            1.1941e-10,\n",
    "            1.2011e-10,\n",
    "            5.4397e-10, \n",
    "            5.1943e-10,\n",
    "            3.1493e-10\n",
    "        ]),\n",
    "    \"formula\": [\n",
    "        \"H2+\", \n",
    "        \"N-\", \n",
    "        \"CH3-\", \n",
    "        \"O-\", \n",
    "        \"OH-\", \n",
    "        \"H2O\", \n",
    "        \"C2H3-\" \n",
    "        \"C2H4\", \n",
    "        \"N2\", \n",
    "        \"CH3-CH2-\", \n",
    "        \"CH3-O-\", \n",
    "        \"C3H5\", \n",
    "        \"CO2\", \n",
    "        \"C3H7-\", \n",
    "        \"C3H8\", \n",
    "        \"CH3-CH2-O-\",\n",
    "        \"CH3-CH2-O-CH2-\",\n",
    "        \"C4H10O\"\n",
    "    ]\n",
    "}"
   ]
  },
  {
   "cell_type": "markdown",
   "metadata": {},
   "source": [
    "### Identification helper block..."
   ]
  },
  {
   "cell_type": "code",
   "execution_count": 5,
   "metadata": {},
   "outputs": [
    {
     "name": "stdout",
     "output_type": "stream",
     "text": [
      "[7.4075e+01 3.1493e-10]\n"
     ]
    },
    {
     "data": {
      "text/plain": [
       "[<matplotlib.lines.Line2D at 0xa37e758710>]"
      ]
     },
     "execution_count": 5,
     "metadata": {},
     "output_type": "execute_result"
    },
    {
     "data": {
      "image/png": "[encoded data removed]",
      "text/plain": [
       "<Figure size 432x288 with 1 Axes>"
      ]
     },
     "metadata": {
      "needs_background": "light"
     },
     "output_type": "display_data"
    }
   ],
   "source": [
    "fig_1, ax_1 = plt.subplots()\n",
    "\n",
    "ax_1.set_ylim(0, 3e-9)\n",
    "\n",
    "l = 73.3\n",
    "r = 76.4\n",
    "x = data_2[(data_2[:,0] > l) & (data_2[:,0] < r)]\n",
    "arg = np.argmax(data_2[:,1][(data_2[:,0] > l) & (data_2[:,0] < r)])\n",
    "print(data_2[(data_2[:,0] > l) & (data_2[:,0] < r)][arg,:])\n",
    "\n",
    "ax_1.plot(x[:,0], x[:,1])"
   ]
  },
  {
   "cell_type": "markdown",
   "metadata": {},
   "source": [
    "### Calculate parts"
   ]
  },
  {
   "cell_type": "code",
   "execution_count": 32,
   "metadata": {
    "scrolled": false
   },
   "outputs": [],
   "source": [
    "air_total_intensity = dict_air[\"intensity\"].sum()"
   ]
  },
  {
   "cell_type": "code",
   "execution_count": 33,
   "metadata": {},
   "outputs": [],
   "source": [
    "dict_air[\"percentage\"] = dict_air[\"intensity\"] / air_total_intensity"
   ]
  },
  {
   "cell_type": "code",
   "execution_count": 34,
   "metadata": {},
   "outputs": [
    {
     "data": {
      "text/html": [
       "<div>\n",
       "<style scoped>\n",
       "    .dataframe tbody tr th:only-of-type {\n",
       "        vertical-align: middle;\n",
       "    }\n",
       "\n",
       "    .dataframe tbody tr th {\n",
       "        vertical-align: top;\n",
       "    }\n",
       "\n",
       "    .dataframe thead th {\n",
       "        text-align: right;\n",
       "    }\n",
       "</style>\n",
       "<table border=\"1\" class=\"dataframe\">\n",
       "  <thead>\n",
       "    <tr style=\"text-align: right;\">\n",
       "      <th></th>\n",
       "      <th>mass</th>\n",
       "      <th>intensity</th>\n",
       "      <th>formula</th>\n",
       "      <th>percentage</th>\n",
       "    </tr>\n",
       "  </thead>\n",
       "  <tbody>\n",
       "    <tr>\n",
       "      <th>0</th>\n",
       "      <td>2.040</td>\n",
       "      <td>2.794000e-11</td>\n",
       "      <td>H2</td>\n",
       "      <td>0.008985</td>\n",
       "    </tr>\n",
       "    <tr>\n",
       "      <th>1</th>\n",
       "      <td>14.070</td>\n",
       "      <td>1.237500e-10</td>\n",
       "      <td>N-</td>\n",
       "      <td>0.039794</td>\n",
       "    </tr>\n",
       "    <tr>\n",
       "      <th>2</th>\n",
       "      <td>16.047</td>\n",
       "      <td>7.185600e-11</td>\n",
       "      <td>O-</td>\n",
       "      <td>0.023107</td>\n",
       "    </tr>\n",
       "    <tr>\n",
       "      <th>3</th>\n",
       "      <td>17.091</td>\n",
       "      <td>1.117600e-10</td>\n",
       "      <td>OH-</td>\n",
       "      <td>0.035939</td>\n",
       "    </tr>\n",
       "    <tr>\n",
       "      <th>4</th>\n",
       "      <td>17.791</td>\n",
       "      <td>2.195600e-10</td>\n",
       "      <td>H2O</td>\n",
       "      <td>0.070604</td>\n",
       "    </tr>\n",
       "    <tr>\n",
       "      <th>5</th>\n",
       "      <td>28.140</td>\n",
       "      <td>1.996000e-09</td>\n",
       "      <td>N2</td>\n",
       "      <td>0.641853</td>\n",
       "    </tr>\n",
       "    <tr>\n",
       "      <th>6</th>\n",
       "      <td>30.930</td>\n",
       "      <td>5.988000e-11</td>\n",
       "      <td>NO</td>\n",
       "      <td>0.019256</td>\n",
       "    </tr>\n",
       "    <tr>\n",
       "      <th>7</th>\n",
       "      <td>31.977</td>\n",
       "      <td>4.151700e-10</td>\n",
       "      <td>O2</td>\n",
       "      <td>0.133506</td>\n",
       "    </tr>\n",
       "    <tr>\n",
       "      <th>8</th>\n",
       "      <td>40.930</td>\n",
       "      <td>4.790400e-11</td>\n",
       "      <td>Ar</td>\n",
       "      <td>0.015404</td>\n",
       "    </tr>\n",
       "    <tr>\n",
       "      <th>9</th>\n",
       "      <td>43.953</td>\n",
       "      <td>3.592800e-11</td>\n",
       "      <td>CO2</td>\n",
       "      <td>0.011553</td>\n",
       "    </tr>\n",
       "  </tbody>\n",
       "</table>\n",
       "</div>"
      ],
      "text/plain": [
       "     mass     intensity formula  percentage\n",
       "0   2.040  2.794000e-11      H2    0.008985\n",
       "1  14.070  1.237500e-10      N-    0.039794\n",
       "2  16.047  7.185600e-11      O-    0.023107\n",
       "3  17.091  1.117600e-10     OH-    0.035939\n",
       "4  17.791  2.195600e-10     H2O    0.070604\n",
       "5  28.140  1.996000e-09      N2    0.641853\n",
       "6  30.930  5.988000e-11      NO    0.019256\n",
       "7  31.977  4.151700e-10      O2    0.133506\n",
       "8  40.930  4.790400e-11      Ar    0.015404\n",
       "9  43.953  3.592800e-11     CO2    0.011553"
      ]
     },
     "execution_count": 34,
     "metadata": {},
     "output_type": "execute_result"
    }
   ],
   "source": [
    "df_air = pd.DataFrame(dict_air)\n",
    "df_air"
   ]
  },
  {
   "cell_type": "code",
   "execution_count": 35,
   "metadata": {},
   "outputs": [],
   "source": [
    "ratio = 1.8814e-09 / 4.151700e-10"
   ]
  },
  {
   "cell_type": "code",
   "execution_count": 36,
   "metadata": {},
   "outputs": [],
   "source": [
    "de_and_air_total_intensity = dict_de_and_air[\"intensity\"].sum()\n",
    "dict_de_and_air[\"percentage\"] = dict_de_and_air[\"intensity\"] / de_and_air_total_intensity"
   ]
  },
  {
   "cell_type": "code",
   "execution_count": 38,
   "metadata": {},
   "outputs": [
    {
     "data": {
      "text/html": [
       "<div>\n",
       "<style scoped>\n",
       "    .dataframe tbody tr th:only-of-type {\n",
       "        vertical-align: middle;\n",
       "    }\n",
       "\n",
       "    .dataframe tbody tr th {\n",
       "        vertical-align: top;\n",
       "    }\n",
       "\n",
       "    .dataframe thead th {\n",
       "        text-align: right;\n",
       "    }\n",
       "</style>\n",
       "<table border=\"1\" class=\"dataframe\">\n",
       "  <thead>\n",
       "    <tr style=\"text-align: right;\">\n",
       "      <th></th>\n",
       "      <th>mass</th>\n",
       "      <th>intensity</th>\n",
       "      <th>formula</th>\n",
       "      <th>percentage</th>\n",
       "    </tr>\n",
       "  </thead>\n",
       "  <tbody>\n",
       "    <tr>\n",
       "      <th>0</th>\n",
       "      <td>2.3973</td>\n",
       "      <td>1.079800e-09</td>\n",
       "      <td>H2+</td>\n",
       "      <td>0.105664</td>\n",
       "    </tr>\n",
       "    <tr>\n",
       "      <th>1</th>\n",
       "      <td>14.0240</td>\n",
       "      <td>7.362000e-11</td>\n",
       "      <td>N-</td>\n",
       "      <td>0.007204</td>\n",
       "    </tr>\n",
       "    <tr>\n",
       "      <th>2</th>\n",
       "      <td>15.1030</td>\n",
       "      <td>2.699400e-10</td>\n",
       "      <td>CH3-</td>\n",
       "      <td>0.026415</td>\n",
       "    </tr>\n",
       "    <tr>\n",
       "      <th>3</th>\n",
       "      <td>15.9420</td>\n",
       "      <td>3.026600e-10</td>\n",
       "      <td>O-</td>\n",
       "      <td>0.029617</td>\n",
       "    </tr>\n",
       "    <tr>\n",
       "      <th>4</th>\n",
       "      <td>17.0210</td>\n",
       "      <td>5.317000e-10</td>\n",
       "      <td>OH-</td>\n",
       "      <td>0.052030</td>\n",
       "    </tr>\n",
       "    <tr>\n",
       "      <th>5</th>\n",
       "      <td>17.9790</td>\n",
       "      <td>1.750500e-09</td>\n",
       "      <td>H2O</td>\n",
       "      <td>0.171296</td>\n",
       "    </tr>\n",
       "    <tr>\n",
       "      <th>6</th>\n",
       "      <td>26.0100</td>\n",
       "      <td>1.840500e-10</td>\n",
       "      <td>C2H3-C2H4</td>\n",
       "      <td>0.018010</td>\n",
       "    </tr>\n",
       "    <tr>\n",
       "      <th>7</th>\n",
       "      <td>27.2090</td>\n",
       "      <td>4.335400e-10</td>\n",
       "      <td>N2</td>\n",
       "      <td>0.042424</td>\n",
       "    </tr>\n",
       "    <tr>\n",
       "      <th>8</th>\n",
       "      <td>28.0480</td>\n",
       "      <td>9.284300e-10</td>\n",
       "      <td>CH3-CH2-</td>\n",
       "      <td>0.090852</td>\n",
       "    </tr>\n",
       "    <tr>\n",
       "      <th>9</th>\n",
       "      <td>29.0070</td>\n",
       "      <td>8.834400e-10</td>\n",
       "      <td>CH3-O-</td>\n",
       "      <td>0.086450</td>\n",
       "    </tr>\n",
       "    <tr>\n",
       "      <th>10</th>\n",
       "      <td>31.1640</td>\n",
       "      <td>1.881400e-09</td>\n",
       "      <td>C3H5</td>\n",
       "      <td>0.184106</td>\n",
       "    </tr>\n",
       "    <tr>\n",
       "      <th>11</th>\n",
       "      <td>41.1130</td>\n",
       "      <td>2.822100e-10</td>\n",
       "      <td>CO2</td>\n",
       "      <td>0.027616</td>\n",
       "    </tr>\n",
       "    <tr>\n",
       "      <th>12</th>\n",
       "      <td>43.9530</td>\n",
       "      <td>1.194100e-10</td>\n",
       "      <td>C3H7-</td>\n",
       "      <td>0.011685</td>\n",
       "    </tr>\n",
       "    <tr>\n",
       "      <th>13</th>\n",
       "      <td>43.9850</td>\n",
       "      <td>1.201100e-10</td>\n",
       "      <td>C3H8</td>\n",
       "      <td>0.011753</td>\n",
       "    </tr>\n",
       "    <tr>\n",
       "      <th>14</th>\n",
       "      <td>45.0680</td>\n",
       "      <td>5.439700e-10</td>\n",
       "      <td>CH3-CH2-O-</td>\n",
       "      <td>0.053231</td>\n",
       "    </tr>\n",
       "    <tr>\n",
       "      <th>15</th>\n",
       "      <td>59.0920</td>\n",
       "      <td>5.194300e-10</td>\n",
       "      <td>CH3-CH2-O-CH2-</td>\n",
       "      <td>0.050829</td>\n",
       "    </tr>\n",
       "    <tr>\n",
       "      <th>16</th>\n",
       "      <td>74.0750</td>\n",
       "      <td>3.149300e-10</td>\n",
       "      <td>C4H10O</td>\n",
       "      <td>0.030818</td>\n",
       "    </tr>\n",
       "  </tbody>\n",
       "</table>\n",
       "</div>"
      ],
      "text/plain": [
       "       mass     intensity         formula  percentage\n",
       "0    2.3973  1.079800e-09             H2+    0.105664\n",
       "1   14.0240  7.362000e-11              N-    0.007204\n",
       "2   15.1030  2.699400e-10            CH3-    0.026415\n",
       "3   15.9420  3.026600e-10              O-    0.029617\n",
       "4   17.0210  5.317000e-10             OH-    0.052030\n",
       "5   17.9790  1.750500e-09             H2O    0.171296\n",
       "6   26.0100  1.840500e-10       C2H3-C2H4    0.018010\n",
       "7   27.2090  4.335400e-10              N2    0.042424\n",
       "8   28.0480  9.284300e-10        CH3-CH2-    0.090852\n",
       "9   29.0070  8.834400e-10          CH3-O-    0.086450\n",
       "10  31.1640  1.881400e-09            C3H5    0.184106\n",
       "11  41.1130  2.822100e-10             CO2    0.027616\n",
       "12  43.9530  1.194100e-10           C3H7-    0.011685\n",
       "13  43.9850  1.201100e-10            C3H8    0.011753\n",
       "14  45.0680  5.439700e-10      CH3-CH2-O-    0.053231\n",
       "15  59.0920  5.194300e-10  CH3-CH2-O-CH2-    0.050829\n",
       "16  74.0750  3.149300e-10          C4H10O    0.030818"
      ]
     },
     "execution_count": 38,
     "metadata": {},
     "output_type": "execute_result"
    }
   ],
   "source": [
    "df_de_and_air = pd.DataFrame(dict_de_and_air)\n",
    "df_de_and_air"
   ]
  },
  {
   "cell_type": "markdown",
   "metadata": {},
   "source": [
    "# Analysis"
   ]
  },
  {
   "cell_type": "code",
   "execution_count": 39,
   "metadata": {},
   "outputs": [],
   "source": [
    "air_composition = df_air.formula.values"
   ]
  },
  {
   "cell_type": "code",
   "execution_count": 40,
   "metadata": {},
   "outputs": [],
   "source": [
    "d_and_a_composition = df_de_and_air.formula.values"
   ]
  },
  {
   "cell_type": "code",
   "execution_count": 41,
   "metadata": {},
   "outputs": [
    {
     "data": {
      "text/plain": [
       "array(['H2+', 'N-', 'CH3-', 'O-', 'OH-', 'H2O', 'C2H3-C2H4', 'N2',\n",
       "       'CH3-CH2-', 'CH3-O-', 'C3H5', 'CO2', 'C3H7-', 'C3H8', 'CH3-CH2-O-',\n",
       "       'CH3-CH2-O-CH2-', 'C4H10O'], dtype=object)"
      ]
     },
     "execution_count": 41,
     "metadata": {},
     "output_type": "execute_result"
    }
   ],
   "source": [
    "d_and_a_composition"
   ]
  },
  {
   "cell_type": "code",
   "execution_count": 42,
   "metadata": {},
   "outputs": [
    {
     "data": {
      "text/plain": [
       "array(['H2', 'N-', 'O-', 'OH-', 'H2O', 'N2', 'NO', 'O2', 'Ar', 'CO2'],\n",
       "      dtype=object)"
      ]
     },
     "execution_count": 42,
     "metadata": {},
     "output_type": "execute_result"
    }
   ],
   "source": [
    "air_composition"
   ]
  },
  {
   "cell_type": "code",
   "execution_count": 81,
   "metadata": {},
   "outputs": [],
   "source": [
    "idx = (elem not in air_composition for elem in d_and_a_composition)"
   ]
  },
  {
   "cell_type": "code",
   "execution_count": 68,
   "metadata": {},
   "outputs": [],
   "source": [
    "#Finally, we have spectre of Diethyl ethre by removing elemets which occured in air spectre\n",
    "\n",
    "df_de = df_de_and_air.loc[idx]"
   ]
  },
  {
   "cell_type": "code",
   "execution_count": 72,
   "metadata": {},
   "outputs": [],
   "source": [
    "df_de.percentage = df_de.percentage / np.sum(df_de.percentage)"
   ]
  },
  {
   "cell_type": "code",
   "execution_count": 73,
   "metadata": {},
   "outputs": [
    {
     "data": {
      "text/html": [
       "<div>\n",
       "<style scoped>\n",
       "    .dataframe tbody tr th:only-of-type {\n",
       "        vertical-align: middle;\n",
       "    }\n",
       "\n",
       "    .dataframe tbody tr th {\n",
       "        vertical-align: top;\n",
       "    }\n",
       "\n",
       "    .dataframe thead th {\n",
       "        text-align: right;\n",
       "    }\n",
       "</style>\n",
       "<table border=\"1\" class=\"dataframe\">\n",
       "  <thead>\n",
       "    <tr style=\"text-align: right;\">\n",
       "      <th></th>\n",
       "      <th>mass</th>\n",
       "      <th>intensity</th>\n",
       "      <th>formula</th>\n",
       "      <th>percentage</th>\n",
       "    </tr>\n",
       "  </thead>\n",
       "  <tbody>\n",
       "    <tr>\n",
       "      <th>0</th>\n",
       "      <td>2.3973</td>\n",
       "      <td>1.079800e-09</td>\n",
       "      <td>H2+</td>\n",
       "      <td>0.157752</td>\n",
       "    </tr>\n",
       "    <tr>\n",
       "      <th>2</th>\n",
       "      <td>15.1030</td>\n",
       "      <td>2.699400e-10</td>\n",
       "      <td>CH3-</td>\n",
       "      <td>0.039437</td>\n",
       "    </tr>\n",
       "    <tr>\n",
       "      <th>6</th>\n",
       "      <td>26.0100</td>\n",
       "      <td>1.840500e-10</td>\n",
       "      <td>C2H3-C2H4</td>\n",
       "      <td>0.026889</td>\n",
       "    </tr>\n",
       "    <tr>\n",
       "      <th>8</th>\n",
       "      <td>28.0480</td>\n",
       "      <td>9.284300e-10</td>\n",
       "      <td>CH3-CH2-</td>\n",
       "      <td>0.135638</td>\n",
       "    </tr>\n",
       "    <tr>\n",
       "      <th>9</th>\n",
       "      <td>29.0070</td>\n",
       "      <td>8.834400e-10</td>\n",
       "      <td>CH3-O-</td>\n",
       "      <td>0.129065</td>\n",
       "    </tr>\n",
       "    <tr>\n",
       "      <th>10</th>\n",
       "      <td>31.1640</td>\n",
       "      <td>1.881400e-09</td>\n",
       "      <td>C3H5</td>\n",
       "      <td>0.274861</td>\n",
       "    </tr>\n",
       "    <tr>\n",
       "      <th>12</th>\n",
       "      <td>43.9530</td>\n",
       "      <td>1.194100e-10</td>\n",
       "      <td>C3H7-</td>\n",
       "      <td>0.017445</td>\n",
       "    </tr>\n",
       "    <tr>\n",
       "      <th>13</th>\n",
       "      <td>43.9850</td>\n",
       "      <td>1.201100e-10</td>\n",
       "      <td>C3H8</td>\n",
       "      <td>0.017547</td>\n",
       "    </tr>\n",
       "    <tr>\n",
       "      <th>14</th>\n",
       "      <td>45.0680</td>\n",
       "      <td>5.439700e-10</td>\n",
       "      <td>CH3-CH2-O-</td>\n",
       "      <td>0.079471</td>\n",
       "    </tr>\n",
       "    <tr>\n",
       "      <th>15</th>\n",
       "      <td>59.0920</td>\n",
       "      <td>5.194300e-10</td>\n",
       "      <td>CH3-CH2-O-CH2-</td>\n",
       "      <td>0.075886</td>\n",
       "    </tr>\n",
       "    <tr>\n",
       "      <th>16</th>\n",
       "      <td>74.0750</td>\n",
       "      <td>3.149300e-10</td>\n",
       "      <td>C4H10O</td>\n",
       "      <td>0.046009</td>\n",
       "    </tr>\n",
       "  </tbody>\n",
       "</table>\n",
       "</div>"
      ],
      "text/plain": [
       "       mass     intensity         formula  percentage\n",
       "0    2.3973  1.079800e-09             H2+    0.157752\n",
       "2   15.1030  2.699400e-10            CH3-    0.039437\n",
       "6   26.0100  1.840500e-10       C2H3-C2H4    0.026889\n",
       "8   28.0480  9.284300e-10        CH3-CH2-    0.135638\n",
       "9   29.0070  8.834400e-10          CH3-O-    0.129065\n",
       "10  31.1640  1.881400e-09            C3H5    0.274861\n",
       "12  43.9530  1.194100e-10           C3H7-    0.017445\n",
       "13  43.9850  1.201100e-10            C3H8    0.017547\n",
       "14  45.0680  5.439700e-10      CH3-CH2-O-    0.079471\n",
       "15  59.0920  5.194300e-10  CH3-CH2-O-CH2-    0.075886\n",
       "16  74.0750  3.149300e-10          C4H10O    0.046009"
      ]
     },
     "execution_count": 73,
     "metadata": {},
     "output_type": "execute_result"
    }
   ],
   "source": [
    "df_de"
   ]
  },
  {
   "cell_type": "code",
   "execution_count": 82,
   "metadata": {},
   "outputs": [],
   "source": [
    "idx_ = (not el for el in idx)"
   ]
  },
  {
   "cell_type": "code",
   "execution_count": 83,
   "metadata": {},
   "outputs": [],
   "source": [
    "# Common elements in spectra\n",
    "\n",
    "air_in_de = df_de_and_air.loc[idx_]"
   ]
  },
  {
   "cell_type": "code",
   "execution_count": 86,
   "metadata": {},
   "outputs": [
    {
     "data": {
      "text/html": [
       "<div>\n",
       "<style scoped>\n",
       "    .dataframe tbody tr th:only-of-type {\n",
       "        vertical-align: middle;\n",
       "    }\n",
       "\n",
       "    .dataframe tbody tr th {\n",
       "        vertical-align: top;\n",
       "    }\n",
       "\n",
       "    .dataframe thead th {\n",
       "        text-align: right;\n",
       "    }\n",
       "</style>\n",
       "<table border=\"1\" class=\"dataframe\">\n",
       "  <thead>\n",
       "    <tr style=\"text-align: right;\">\n",
       "      <th></th>\n",
       "      <th>mass</th>\n",
       "      <th>intensity</th>\n",
       "      <th>formula</th>\n",
       "      <th>percentage</th>\n",
       "    </tr>\n",
       "  </thead>\n",
       "  <tbody>\n",
       "    <tr>\n",
       "      <th>0</th>\n",
       "      <td>2.040</td>\n",
       "      <td>2.794000e-11</td>\n",
       "      <td>H2</td>\n",
       "      <td>0.008985</td>\n",
       "    </tr>\n",
       "    <tr>\n",
       "      <th>1</th>\n",
       "      <td>14.070</td>\n",
       "      <td>1.237500e-10</td>\n",
       "      <td>N-</td>\n",
       "      <td>0.039794</td>\n",
       "    </tr>\n",
       "    <tr>\n",
       "      <th>2</th>\n",
       "      <td>16.047</td>\n",
       "      <td>7.185600e-11</td>\n",
       "      <td>O-</td>\n",
       "      <td>0.023107</td>\n",
       "    </tr>\n",
       "    <tr>\n",
       "      <th>3</th>\n",
       "      <td>17.091</td>\n",
       "      <td>1.117600e-10</td>\n",
       "      <td>OH-</td>\n",
       "      <td>0.035939</td>\n",
       "    </tr>\n",
       "    <tr>\n",
       "      <th>4</th>\n",
       "      <td>17.791</td>\n",
       "      <td>2.195600e-10</td>\n",
       "      <td>H2O</td>\n",
       "      <td>0.070604</td>\n",
       "    </tr>\n",
       "    <tr>\n",
       "      <th>5</th>\n",
       "      <td>28.140</td>\n",
       "      <td>1.996000e-09</td>\n",
       "      <td>N2</td>\n",
       "      <td>0.641853</td>\n",
       "    </tr>\n",
       "    <tr>\n",
       "      <th>6</th>\n",
       "      <td>30.930</td>\n",
       "      <td>5.988000e-11</td>\n",
       "      <td>NO</td>\n",
       "      <td>0.019256</td>\n",
       "    </tr>\n",
       "    <tr>\n",
       "      <th>7</th>\n",
       "      <td>31.977</td>\n",
       "      <td>4.151700e-10</td>\n",
       "      <td>O2</td>\n",
       "      <td>0.133506</td>\n",
       "    </tr>\n",
       "    <tr>\n",
       "      <th>8</th>\n",
       "      <td>40.930</td>\n",
       "      <td>4.790400e-11</td>\n",
       "      <td>Ar</td>\n",
       "      <td>0.015404</td>\n",
       "    </tr>\n",
       "    <tr>\n",
       "      <th>9</th>\n",
       "      <td>43.953</td>\n",
       "      <td>3.592800e-11</td>\n",
       "      <td>CO2</td>\n",
       "      <td>0.011553</td>\n",
       "    </tr>\n",
       "  </tbody>\n",
       "</table>\n",
       "</div>"
      ],
      "text/plain": [
       "     mass     intensity formula  percentage\n",
       "0   2.040  2.794000e-11      H2    0.008985\n",
       "1  14.070  1.237500e-10      N-    0.039794\n",
       "2  16.047  7.185600e-11      O-    0.023107\n",
       "3  17.091  1.117600e-10     OH-    0.035939\n",
       "4  17.791  2.195600e-10     H2O    0.070604\n",
       "5  28.140  1.996000e-09      N2    0.641853\n",
       "6  30.930  5.988000e-11      NO    0.019256\n",
       "7  31.977  4.151700e-10      O2    0.133506\n",
       "8  40.930  4.790400e-11      Ar    0.015404\n",
       "9  43.953  3.592800e-11     CO2    0.011553"
      ]
     },
     "execution_count": 86,
     "metadata": {},
     "output_type": "execute_result"
    }
   ],
   "source": [
    "df_air"
   ]
  },
  {
   "cell_type": "code",
   "execution_count": 85,
   "metadata": {},
   "outputs": [
    {
     "data": {
      "text/html": [
       "<div>\n",
       "<style scoped>\n",
       "    .dataframe tbody tr th:only-of-type {\n",
       "        vertical-align: middle;\n",
       "    }\n",
       "\n",
       "    .dataframe tbody tr th {\n",
       "        vertical-align: top;\n",
       "    }\n",
       "\n",
       "    .dataframe thead th {\n",
       "        text-align: right;\n",
       "    }\n",
       "</style>\n",
       "<table border=\"1\" class=\"dataframe\">\n",
       "  <thead>\n",
       "    <tr style=\"text-align: right;\">\n",
       "      <th></th>\n",
       "      <th>mass</th>\n",
       "      <th>intensity</th>\n",
       "      <th>formula</th>\n",
       "      <th>percentage</th>\n",
       "    </tr>\n",
       "  </thead>\n",
       "  <tbody>\n",
       "    <tr>\n",
       "      <th>1</th>\n",
       "      <td>14.024</td>\n",
       "      <td>7.362000e-11</td>\n",
       "      <td>N-</td>\n",
       "      <td>0.007204</td>\n",
       "    </tr>\n",
       "    <tr>\n",
       "      <th>3</th>\n",
       "      <td>15.942</td>\n",
       "      <td>3.026600e-10</td>\n",
       "      <td>O-</td>\n",
       "      <td>0.029617</td>\n",
       "    </tr>\n",
       "    <tr>\n",
       "      <th>4</th>\n",
       "      <td>17.021</td>\n",
       "      <td>5.317000e-10</td>\n",
       "      <td>OH-</td>\n",
       "      <td>0.052030</td>\n",
       "    </tr>\n",
       "    <tr>\n",
       "      <th>5</th>\n",
       "      <td>17.979</td>\n",
       "      <td>1.750500e-09</td>\n",
       "      <td>H2O</td>\n",
       "      <td>0.171296</td>\n",
       "    </tr>\n",
       "    <tr>\n",
       "      <th>7</th>\n",
       "      <td>27.209</td>\n",
       "      <td>4.335400e-10</td>\n",
       "      <td>N2</td>\n",
       "      <td>0.042424</td>\n",
       "    </tr>\n",
       "    <tr>\n",
       "      <th>11</th>\n",
       "      <td>41.113</td>\n",
       "      <td>2.822100e-10</td>\n",
       "      <td>CO2</td>\n",
       "      <td>0.027616</td>\n",
       "    </tr>\n",
       "  </tbody>\n",
       "</table>\n",
       "</div>"
      ],
      "text/plain": [
       "      mass     intensity formula  percentage\n",
       "1   14.024  7.362000e-11      N-    0.007204\n",
       "3   15.942  3.026600e-10      O-    0.029617\n",
       "4   17.021  5.317000e-10     OH-    0.052030\n",
       "5   17.979  1.750500e-09     H2O    0.171296\n",
       "7   27.209  4.335400e-10      N2    0.042424\n",
       "11  41.113  2.822100e-10     CO2    0.027616"
      ]
     },
     "execution_count": 85,
     "metadata": {},
     "output_type": "execute_result"
    }
   ],
   "source": [
    "air_in_de"
   ]
  },
  {
   "cell_type": "code",
   "execution_count": 88,
   "metadata": {},
   "outputs": [],
   "source": [
    "elements = air_in_de.formula.values"
   ]
  },
  {
   "cell_type": "code",
   "execution_count": 91,
   "metadata": {},
   "outputs": [],
   "source": [
    "ratios = np.fromiter((\n",
    "    df_air.loc[\n",
    "        df_air.formula == formula\n",
    "    ].intensity.values[0] for formula in air_in_de.formula.values\n",
    "), dtype=np.float64)"
   ]
  },
  {
   "cell_type": "code",
   "execution_count": 92,
   "metadata": {},
   "outputs": [
    {
     "data": {
      "text/plain": [
       "array([1.2375e-10, 7.1856e-11, 1.1176e-10, 2.1956e-10, 1.9960e-09,\n",
       "       3.5928e-11])"
      ]
     },
     "execution_count": 92,
     "metadata": {},
     "output_type": "execute_result"
    }
   ],
   "source": [
    "ratios"
   ]
  },
  {
   "cell_type": "markdown",
   "metadata": {},
   "source": [
    "# Conclusion"
   ]
  },
  {
   "cell_type": "markdown",
   "metadata": {},
   "source": [
    "Since ratios of common peaks in both air and diethyl ethre do not have any pattern, we cannot conclude how to norm second spectre to first and remove peaks."
   ]
  }
 ],
 "metadata": {
  "kernelspec": {
   "display_name": "Python 3",
   "language": "python",
   "name": "python3"
  },
  "language_info": {
   "codemirror_mode": {
    "name": "ipython",
    "version": 3
   },
   "file_extension": ".py",
   "mimetype": "text/x-python",
   "name": "python",
   "nbconvert_exporter": "python",
   "pygments_lexer": "ipython3",
   "version": "3.7.1"
  }
 },
 "nbformat": 4,
 "nbformat_minor": 2
}
