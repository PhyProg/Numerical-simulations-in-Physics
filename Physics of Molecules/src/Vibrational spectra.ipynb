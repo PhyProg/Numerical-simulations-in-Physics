{
 "cells": [
  {
   "cell_type": "markdown",
   "metadata": {},
   "source": [
    "# Introduction\n",
    "\n",
    "By exposing sample to electron beam, we can measure electrons inelastic scattering energy loss by identifying resonant collisions resulting in molecular vibrational levels excitations. Vibrational levels, up to a first anharmonic term, can be described as:\n",
    "\n",
    "\\begin{equation}\n",
    "E_n = \\hbar \\omega (n + \\frac{1}{2}) - \\hbar \\omega X (n + \\frac{1}{2}) ^ 2\n",
    "\\end{equation}"
   ]
  },
  {
   "cell_type": "markdown",
   "metadata": {},
   "source": [
    "# Analysis"
   ]
  },
  {
   "cell_type": "code",
   "execution_count": 1,
   "metadata": {},
   "outputs": [],
   "source": [
    "import numpy as np\n",
    "import pandas as pd\n",
    "\n",
    "import matplotlib.pyplot as plt\n",
    "\n",
    "from scipy.optimize import curve_fit\n",
    "\n",
    "import plotly.plotly as pl\n",
    "from plotly import tools\n",
    "from plotly import graph_objs as go\n",
    "from plotly.offline import plot, init_notebook_mode, iplot"
   ]
  },
  {
   "cell_type": "code",
   "execution_count": 2,
   "metadata": {},
   "outputs": [],
   "source": [
    "data_1 = pd.read_csv(\"../data/Ascii1.dat\", header=None, sep=\"\\t\").rename({0: \"e\", 1: \"n\"}, axis=1)\n",
    "data_2 = pd.read_csv(\"../data/Ascii2.dat\", header=None, sep=\"\\t\").rename({0: \"e\", 1: \"n\"}, axis=1)"
   ]
  },
  {
   "cell_type": "code",
   "execution_count": 3,
   "metadata": {},
   "outputs": [],
   "source": [
    "e_1 = data_1.e.values\n",
    "n_1 = data_1.n.values\n",
    "\n",
    "e_2 = data_2.e.values\n",
    "n_2 = data_2.n.values"
   ]
  },
  {
   "cell_type": "code",
   "execution_count": 4,
   "metadata": {},
   "outputs": [],
   "source": [
    "idx_1 = np.where((e_1 < 2.7) & (e_1 > 1.3))\n",
    "idx_2 = np.where(n_2 > 20)"
   ]
  },
  {
   "cell_type": "code",
   "execution_count": 5,
   "metadata": {},
   "outputs": [
    {
     "data": {
      "text/plain": [
       "<matplotlib.collections.PathCollection at 0x4e1f12c4e0>"
      ]
     },
     "execution_count": 5,
     "metadata": {},
     "output_type": "execute_result"
    },
    {
     "data": {
      "image/png": "[encoded data removed]",
      "text/plain": [
       "<Figure size 1080x288 with 2 Axes>"
      ]
     },
     "metadata": {
      "needs_background": "light"
     },
     "output_type": "display_data"
    }
   ],
   "source": [
    "fig, ax = plt.subplots(1, 2)\n",
    "\n",
    "fig.set_figwidth(15)\n",
    "\n",
    "ax[0].scatter(e_1[idx_1], n_1[idx_1])\n",
    "ax[1].scatter(e_2[idx_2], n_1[idx_2])"
   ]
  },
  {
   "cell_type": "code",
   "execution_count": 6,
   "metadata": {},
   "outputs": [],
   "source": [
    "n1 = np.linspace(1, 5, 5)\n",
    "n2 = np.linspace(1, 5, 5)\n",
    "\n",
    "e1 = np.array([1.510, 1.763, 2.005, 2.275, 2.531])\n",
    "e2 = np.array([1.292, 1.570, 1.838, 2.117, 2.402])"
   ]
  },
  {
   "cell_type": "code",
   "execution_count": 7,
   "metadata": {},
   "outputs": [
    {
     "data": {
      "text/plain": [
       "array([1., 2., 3., 4., 5.])"
      ]
     },
     "execution_count": 7,
     "metadata": {},
     "output_type": "execute_result"
    }
   ],
   "source": [
    "n1"
   ]
  },
  {
   "cell_type": "code",
   "execution_count": 8,
   "metadata": {},
   "outputs": [],
   "source": [
    "def energy(n, *args):\n",
    "    return args[0] * (n + .5) - args[0] * args[1] * (n + .5) ** 2"
   ]
  },
  {
   "cell_type": "code",
   "execution_count": 9,
   "metadata": {},
   "outputs": [
    {
     "data": {
      "text/html": [
       "        <script type=\"text/javascript\">\n",
       "        window.PlotlyConfig = {MathJaxConfig: 'local'};\n",
       "        if (window.MathJax) {MathJax.Hub.Config({SVG: {font: \"STIX-Web\"}});}\n",
       "        if (typeof require !== 'undefined') {\n",
       "        require.undef(\"plotly\");\n",
       "        requirejs.config({\n",
       "            paths: {\n",
       "                'plotly': ['https://cdn.plot.ly/plotly-latest.min']\n",
       "            }\n",
       "        });\n",
       "        require(['plotly'], function(Plotly) {\n",
       "            window._Plotly = Plotly;\n",
       "        });\n",
       "        }\n",
       "        </script>\n",
       "        "
      ]
     },
     "metadata": {},
     "output_type": "display_data"
    },
    {
     "name": "stdout",
     "output_type": "stream",
     "text": [
      "This is the format of your plot grid:\n",
      "[ (1,1) x1,y1 ]  [ (1,2) x2,y2 ]\n",
      "\n"
     ]
    },
    {
     "data": {
      "text/plain": [
       "Layout({\n",
       "    'height': 600,\n",
       "    'title': {'text': 'Vibrational spectra'},\n",
       "    'width': 800,\n",
       "    'xaxis': {'anchor': 'y', 'domain': [0.0, 0.45]},\n",
       "    'xaxis2': {'anchor': 'y2', 'domain': [0.55, 1.0]},\n",
       "    'yaxis': {'anchor': 'x', 'domain': [0.0, 1.0]},\n",
       "    'yaxis2': {'anchor': 'x2', 'domain': [0.0, 1.0]}\n",
       "})"
      ]
     },
     "execution_count": 9,
     "metadata": {},
     "output_type": "execute_result"
    }
   ],
   "source": [
    "init_notebook_mode(True)\n",
    "\n",
    "trace_1 = go.Scatter(x=e_1[idx_1], y=n_1[idx_1], mode='markers')\n",
    "trace_2 = go.Scatter(x=e_2[idx_2], y=n_2[idx_2], mode='markers')\n",
    "\n",
    "fig = tools.make_subplots(rows=1, cols=2)\n",
    "\n",
    "fig.append_trace(trace_1, 1, 1)\n",
    "fig.append_trace(trace_2, 1, 2)\n",
    "\n",
    "fig['layout'].update(height=600, width=800, title='Vibrational spectra')\n",
    "#iplot(fig)"
   ]
  },
  {
   "cell_type": "code",
   "execution_count": 10,
   "metadata": {},
   "outputs": [],
   "source": [
    "popt_1, pcov_1 = curve_fit(energy, n1, e1, p0=[2e3, 5e-3], maxfev=8000)"
   ]
  },
  {
   "cell_type": "code",
   "execution_count": 11,
   "metadata": {},
   "outputs": [],
   "source": [
    "popt_2, pcov_2 = curve_fit(energy, n2, e2, p0=[2e3, 5e-3], maxfev=8000)"
   ]
  },
  {
   "cell_type": "code",
   "execution_count": 12,
   "metadata": {},
   "outputs": [],
   "source": [
    "corr = 1 / 1.23941 * 10 ** 4"
   ]
  },
  {
   "cell_type": "code",
   "execution_count": 13,
   "metadata": {},
   "outputs": [],
   "source": [
    "h_bar_omega_1 = popt_1[0] * corr\n",
    "d_h_bar_omega_1 = pcov_1[0, 0] * corr\n",
    "\n",
    "h_bar_omega_x_1 = popt_1[1] * corr\n",
    "d_h_bar_omega_x_1 = (popt_1[0] * pcov_1[1, 1] + \n",
    "                     popt_1[1] * pcov_1[0, 0] + \n",
    "                     2 * popt_1[1] * popt_1[0] * pcov_1[0, 1]) * corr"
   ]
  },
  {
   "cell_type": "code",
   "execution_count": 14,
   "metadata": {},
   "outputs": [],
   "source": [
    "h_bar_omega_2 = popt_2[0] * corr\n",
    "d_h_bar_omega_2 = pcov_2[0, 0] * corr\n",
    "\n",
    "h_bar_omega_x_2 = popt_2[1] * corr\n",
    "d_h_bar_omega_x_2 = (popt_2[0] * pcov_2[1, 1] + \n",
    "                     popt_2[1] * pcov_2[0, 0] + \n",
    "                     2 * popt_2[1] * popt_2[0] * pcov_2[0, 1]) * corr"
   ]
  },
  {
   "cell_type": "code",
   "execution_count": 15,
   "metadata": {},
   "outputs": [
    {
     "data": {
      "text/plain": [
       "7601.650809599039"
      ]
     },
     "execution_count": 15,
     "metadata": {},
     "output_type": "execute_result"
    }
   ],
   "source": [
    "h_bar_omega_1"
   ]
  },
  {
   "cell_type": "code",
   "execution_count": null,
   "metadata": {},
   "outputs": [],
   "source": []
  }
 ],
 "metadata": {
  "kernelspec": {
   "display_name": "Python 3",
   "language": "python",
   "name": "python3"
  },
  "language_info": {
   "codemirror_mode": {
    "name": "ipython",
    "version": 3
   },
   "file_extension": ".py",
   "mimetype": "text/x-python",
   "name": "python",
   "nbconvert_exporter": "python",
   "pygments_lexer": "ipython3",
   "version": "3.7.1"
  }
 },
 "nbformat": 4,
 "nbformat_minor": 2
}
