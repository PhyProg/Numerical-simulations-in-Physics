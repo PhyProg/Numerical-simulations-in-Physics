{
 "cells": [
  {
   "cell_type": "markdown",
   "metadata": {},
   "source": [
    "# Homework 1 Problem 3"
   ]
  },
  {
   "cell_type": "markdown",
   "metadata": {},
   "source": [
    "In $2d$ electron gas, using Born-von Karman boundary conditions:\n",
    "\n",
    "\\begin{equation}\n",
    "\\begin{aligned}\n",
    "\\psi (x,y + Y) = \\psi(x,y) \\\\\n",
    "\\psi (x + X,y) = \\psi(x,y)\n",
    "\\end{aligned}\n",
    "\\end{equation}\n",
    "\n",
    "Therefore:\n",
    "\n",
    "\\begin{equation}\n",
    "\\psi_{\\vec{k}}(\\vec{r}) = \\frac{e^{i\\vec{k}\\cdot\\vec{r}}}{\\sqrt{S}}\n",
    "\\end{equation}\n",
    "\n",
    "Energy and momentum eigen values of electrons are related to wave vector:\n",
    "\n",
    "\\begin{equation}\n",
    "\\begin{aligned}\n",
    "E_{\\vec{k}} = \\frac{\\hbar^2 k^2}{2m}\\\\\n",
    "\\vec{p} = \\hbar \\vec{k}\n",
    "\\end{aligned}\n",
    "\\end{equation}"
   ]
  },
  {
   "cell_type": "markdown",
   "metadata": {},
   "source": [
    "Recall boundary conditions. They imply:\n",
    "\n",
    "\\begin{equation}\n",
    "\\begin{aligned}\n",
    "e^{ik_x X} = e^{ik_y Y} = 1\n",
    "\\end{aligned}\n",
    "\\end{equation}\n",
    "\n",
    "Therefore:\n",
    "\n",
    "\\begin{equation}\n",
    "\\begin{aligned}\n",
    "k_x = n_x \\frac{2\\pi}{X}\\\\\n",
    "k_y = n_y \\frac{2\\pi}{Y}\n",
    "\\end{aligned}\n",
    "\\end{equation}"
   ]
  },
  {
   "cell_type": "markdown",
   "metadata": {},
   "source": [
    "In $k-Space$, it's obvious that in every area of size $\\frac{2\\pi}{X}\\frac{2\\pi}{Y}$ there is only one grid point. That means that there are $\\frac{S}{(2\\pi)^2}$ grid points per unit area of $k-Space$. \n",
    "\n",
    "That further means that:\n",
    "\n",
    "\\begin{equation}\n",
    "d^2 \\vec{n} = \\frac{S}{(2\\pi)^2} d^2 \\vec{k}\n",
    "\\end{equation}\n",
    "\n",
    "Spin degeneracy is:\n",
    "\n",
    "\\begin{equation}\n",
    "g_s = 2s+1 = 2\n",
    "\\end{equation}"
   ]
  },
  {
   "cell_type": "markdown",
   "metadata": {},
   "source": [
    "Combining previous results, we can write equation for total number of electrons:\n",
    "\n",
    "\\begin{equation}\n",
    "N = g_s \\int \\frac{d^2 \\vec{k}}{(2\\pi)^2} S \\cdot f_{FD} (\\vec{k})\n",
    "\\end{equation}\n",
    "\n",
    "where Fermi-Dirac distribution is:\n",
    "\n",
    "\\begin{equation}\n",
    "f_{FD} (\\vec{k}) = \\frac{1}{e^{\\frac{E_{\\vec{k}} - \\mu}{kT}} + 1}\n",
    "\\end{equation}\n",
    "\n",
    "Chemical potential at $T = 0K$ is called Fermi energy. To calculate it, we will use:\n",
    "\n",
    "\\begin{equation}\n",
    "\\lim_{T \\to 0} f_{FD} (\\vec{k}) = \\lim_{T \\to 0} \\frac{1}{e^{\\frac{E_{\\vec{k}} - \\mu}{kT}} + 1} = \\theta(E_F - E_{\\vec{k}})\n",
    "\\end{equation}"
   ]
  },
  {
   "cell_type": "markdown",
   "metadata": {},
   "source": [
    "Using step function approximation of Fermi-Dirac distribution at low temperatures, we can easily calculate number of particles:\n",
    "\n",
    "\\begin{equation}\n",
    "N = g_s \\frac{S}{(2\\pi)^2} \\pi k_F^2\n",
    "\\end{equation}\n",
    "\n",
    "Finally, as $n_S = \\frac{N}{S}$, we obtain Fermi wave vector:\n",
    "\n",
    "\\begin{equation}\n",
    "k_F = \\sqrt{2\\pi n_S}\n",
    "\\end{equation}"
   ]
  },
  {
   "cell_type": "markdown",
   "metadata": {},
   "source": [
    "Knowing Fermi wave vector, we can easily calculate Fermi energy and Fermi velocity:\n",
    "\n",
    "\\begin{equation}\n",
    "\\begin{aligned}\n",
    "E_F = \\frac{\\hbar^2 k_F^2}{2m} = \\frac{\\pi n_S \\hbar^2}{m} \\\\\n",
    "v_F = \\frac{\\hbar k_F}{m} = \\frac{\\hbar}{m} \\sqrt{2\\pi n_S}\n",
    "\\end{aligned}\n",
    "\\end{equation}"
   ]
  },
  {
   "cell_type": "markdown",
   "metadata": {},
   "source": [
    "If we define $r_S$ by equation:\n",
    "\n",
    "\\begin{equation}\n",
    "\\frac{S}{N} = \\frac{1}{n_S} = \\pi r_S^2\n",
    "\\end{equation}\n",
    "\n",
    "Then $n_S = \\frac{1}{\\pi r_S^2}$.\n",
    "\n",
    "Bohr radius is:\n",
    "\n",
    "\\begin{equation}\n",
    "a_0 = 0.529 \\cdot 10^{-10}m\n",
    "\\end{equation}"
   ]
  },
  {
   "cell_type": "code",
   "execution_count": 1,
   "metadata": {},
   "outputs": [],
   "source": [
    "a_0 = 0.529\n",
    "\n",
    "k_F = 2 ** 0.5 / a_0"
   ]
  },
  {
   "cell_type": "code",
   "execution_count": 2,
   "metadata": {},
   "outputs": [
    {
     "data": {
      "text/plain": [
       "2.6733715734841117"
      ]
     },
     "execution_count": 2,
     "metadata": {},
     "output_type": "execute_result"
    }
   ],
   "source": [
    "k_F #Unit is A^-1"
   ]
  },
  {
   "cell_type": "code",
   "execution_count": 3,
   "metadata": {},
   "outputs": [],
   "source": [
    "from scipy.constants import hbar, m_e, e\n",
    "\n",
    "v_F = hbar / m_e * k_F * 10 ** 10"
   ]
  },
  {
   "cell_type": "code",
   "execution_count": 4,
   "metadata": {},
   "outputs": [
    {
     "data": {
      "text/plain": [
       "3094899.0720617673"
      ]
     },
     "execution_count": 4,
     "metadata": {},
     "output_type": "execute_result"
    }
   ],
   "source": [
    "v_F"
   ]
  },
  {
   "cell_type": "code",
   "execution_count": 5,
   "metadata": {},
   "outputs": [
    {
     "data": {
      "text/plain": [
       "27.229620250262712"
      ]
     },
     "execution_count": 5,
     "metadata": {},
     "output_type": "execute_result"
    }
   ],
   "source": [
    "e_F = hbar ** 2 * k_F ** 2 / (2 * m_e) * 10 ** 20\n",
    "e_F/e"
   ]
  },
  {
   "cell_type": "markdown",
   "metadata": {},
   "source": [
    "Therefore:\n",
    "\n",
    "\\begin{equation}\n",
    "\\begin{aligned}\n",
    "k_F = \\frac{1}{(r_S/a_0)}\\cdot 2.67337 A^{-1}\\\\\n",
    "v_F = \\frac{1}{(r_S/a_0)}\\cdot 3.00949 \\cdot 10^{6} \\frac{m}{s}\\\\\n",
    "E_F = \\frac{1}{(r_S/a_0)^2} \\cdot 27.229 eV\n",
    "\\end{aligned}\n",
    "\\end{equation}"
   ]
  },
  {
   "cell_type": "markdown",
   "metadata": {},
   "source": [
    "Degeneracy of electron gass is:\n",
    "\n",
    "\\begin{equation}\n",
    "g(E) = \\sum_{s, vec{k}} \\delta(E_{\\vec{k}} - E) \\to g_s \\int \\frac{d^2 \\vec{k}}{(2\\pi)^2} S \\cdot \\delta(E_k - E)\n",
    "\\end{equation}\n",
    "\n",
    "Changing variables $d^2 \\vec{k} \\to k dk d\\phi$ and integrating over polar angle, we get:\n",
    "\n",
    "\\begin{equation}\n",
    "g(E) =  \\frac{g_s S}{2\\pi} \\int_0^{\\infty} k dk \\delta(E_k - E)\n",
    "\\end{equation}\n",
    "\n",
    "Using $\\delta(f(x)) = \\frac{\\delta(x-x_0)}{|f'(x_0)|}$, we get:\n",
    "\n",
    "\\begin{equation}\n",
    "g(E) = \\frac{g_s S}{2\\pi} \\frac{m}{\\hbar^2} \\int_0^{\\infty} dk \\delta(k - \\frac{1}{\\hbar}\\sqrt{2mE})\n",
    "\\end{equation}\n",
    "\n",
    "Finally:\n",
    "\n",
    "\\begin{equation}\n",
    "g(E) = \\frac{g_s m S}{2\\pi \\hbar^2}\n",
    "\\end{equation}"
   ]
  },
  {
   "cell_type": "markdown",
   "metadata": {},
   "source": [
    "# Homework 1 Problem 4"
   ]
  },
  {
   "cell_type": "markdown",
   "metadata": {},
   "source": [
    "Recall some expressions from previous problem."
   ]
  },
  {
   "cell_type": "code",
   "execution_count": 6,
   "metadata": {},
   "outputs": [],
   "source": [
    "from scipy.constants import k, e, epsilon_0, m_e, hbar, pi\n",
    "from sympy import pprint\n",
    "import numpy as np\n",
    "\n",
    "def fermi_temperature(concentration):\n",
    "    return fermi_energy(concentration) / k\n",
    "\n",
    "def fermi_energy(concentration):\n",
    "    return pi * concentration * hbar ** 2 / m_e"
   ]
  },
  {
   "cell_type": "code",
   "execution_count": 7,
   "metadata": {},
   "outputs": [],
   "source": [
    "n_s = [10 ** 19, 10 ** 14]"
   ]
  },
  {
   "cell_type": "code",
   "execution_count": 8,
   "metadata": {},
   "outputs": [
    {
     "name": "stdout",
     "output_type": "stream",
     "text": [
      "concentration =  10000000000000000000 $m^{-2}$\n",
      "Fermi Temperature =  27779.860455981565 K\n",
      "concentration =  100000000000000 $m^{-2}$\n",
      "Fermi Temperature =  0.27779860455981564 K\n"
     ]
    }
   ],
   "source": [
    "for n in n_s:\n",
    "    print(\"concentration = \", str(n), r\"$m^{-2}$\")\n",
    "    print(\"Fermi Temperature = \", fermi_temperature(n), \"K\")"
   ]
  },
  {
   "cell_type": "markdown",
   "metadata": {},
   "source": [
    "Estimate of electrostatic energy is:\n",
    "\n",
    "\\begin{equation}\n",
    "E_e = \\frac{e^2}{4 \\pi \\epsilon_0 r_s}\n",
    "\\end{equation}"
   ]
  },
  {
   "cell_type": "code",
   "execution_count": 9,
   "metadata": {},
   "outputs": [
    {
     "data": {
      "text/plain": [
       "27.220501610492526"
      ]
     },
     "execution_count": 9,
     "metadata": {},
     "output_type": "execute_result"
    }
   ],
   "source": [
    "e_e = e ** 2 / (4 * pi * epsilon_0 * a_0)\n",
    "e_e/e * 10 ** 10"
   ]
  },
  {
   "cell_type": "markdown",
   "metadata": {},
   "source": [
    "In terms of $r_s/a_0$, we have:\n",
    "\n",
    "\\begin{equation}\n",
    "E_e = \\frac{1}{r_s/a_0} \\cdot 27.2205 eV\n",
    "\\end{equation}"
   ]
  },
  {
   "cell_type": "code",
   "execution_count": 10,
   "metadata": {},
   "outputs": [
    {
     "data": {
      "text/plain": [
       "0.9996651205677355"
      ]
     },
     "execution_count": 10,
     "metadata": {},
     "output_type": "execute_result"
    }
   ],
   "source": [
    "e_e/e_F * 10 ** 10"
   ]
  },
  {
   "cell_type": "markdown",
   "metadata": {},
   "source": [
    "We conclude that:\n",
    "\n",
    "\\begin{equation}\n",
    "\\frac{E_e}{E_F} \\approx \\frac{r_S}{a_0}\n",
    "\\end{equation}"
   ]
  },
  {
   "cell_type": "code",
   "execution_count": 11,
   "metadata": {},
   "outputs": [],
   "source": [
    "def r_s(concentration):\n",
    "    return 1 / np.sqrt(pi * concentration)\n",
    "\n",
    "def electrostatic_energy(concentration):\n",
    "    r = r_s(concentration)\n",
    "    return e ** 2 / (4 * pi * epsilon_0 * r)"
   ]
  },
  {
   "cell_type": "code",
   "execution_count": 12,
   "metadata": {},
   "outputs": [
    {
     "name": "stdout",
     "output_type": "stream",
     "text": [
      "concentration =  10000000000000000000 $m^{-2}$\n",
      "Fermi Energy =  2.393882342709907 eV\n",
      "Electrostatic Energy =  8.070988571692807 eV\n",
      "Ee/EF =  3.371505954029611\n",
      "concentration =  100000000000000 $m^{-2}$\n",
      "Fermi Energy =  2.3938823427099072e-05 eV\n",
      "Electrostatic Energy =  0.025522706855738462 eV\n",
      "Ee/EF =  1066.163795955252\n"
     ]
    }
   ],
   "source": [
    "for n in n_s:\n",
    "    print(\"concentration = \", str(n), r\"$m^{-2}$\")\n",
    "    print(\"Fermi Energy = \", fermi_energy(n)/e, \"eV\")\n",
    "    print(\"Electrostatic Energy = \", electrostatic_energy(n)/e, \"eV\")\n",
    "    print(\"Ee/EF = \", electrostatic_energy(n)/fermi_energy(n))"
   ]
  },
  {
   "cell_type": "markdown",
   "metadata": {},
   "source": [
    "In case of smaller concentrations, electrostatic energy is more important then in case of smaller concentrations."
   ]
  },
  {
   "cell_type": "code",
   "execution_count": null,
   "metadata": {},
   "outputs": [],
   "source": []
  }
 ],
 "metadata": {
  "kernelspec": {
   "display_name": "Python 3",
   "language": "python",
   "name": "python3"
  },
  "language_info": {
   "codemirror_mode": {
    "name": "ipython",
    "version": 3
   },
   "file_extension": ".py",
   "mimetype": "text/x-python",
   "name": "python",
   "nbconvert_exporter": "python",
   "pygments_lexer": "ipython3",
   "version": "3.6.5"
  }
 },
 "nbformat": 4,
 "nbformat_minor": 2
}
