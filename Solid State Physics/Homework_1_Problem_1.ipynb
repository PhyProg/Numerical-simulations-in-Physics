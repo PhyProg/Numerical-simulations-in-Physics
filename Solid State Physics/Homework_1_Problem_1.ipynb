{
 "cells": [
  {
   "cell_type": "markdown",
   "metadata": {},
   "source": [
    "# Homework 1 Problem 1"
   ]
  },
  {
   "cell_type": "code",
   "execution_count": 1,
   "metadata": {},
   "outputs": [],
   "source": [
    "import pandas as pd\n",
    "import numpy as np\n",
    "import matplotlib.pyplot as plt"
   ]
  },
  {
   "cell_type": "code",
   "execution_count": 2,
   "metadata": {},
   "outputs": [],
   "source": [
    "#Load data\n",
    "\n",
    "data = pd.read_csv(\"./data/resistivity_table.csv\", delimiter = \"\\t\", header = 0)"
   ]
  },
  {
   "cell_type": "code",
   "execution_count": 3,
   "metadata": {},
   "outputs": [
    {
     "data": {
      "text/html": [
       "<div>\n",
       "<style scoped>\n",
       "    .dataframe tbody tr th:only-of-type {\n",
       "        vertical-align: middle;\n",
       "    }\n",
       "\n",
       "    .dataframe tbody tr th {\n",
       "        vertical-align: top;\n",
       "    }\n",
       "\n",
       "    .dataframe thead th {\n",
       "        text-align: right;\n",
       "    }\n",
       "</style>\n",
       "<table border=\"1\" class=\"dataframe\">\n",
       "  <thead>\n",
       "    <tr style=\"text-align: right;\">\n",
       "      <th></th>\n",
       "      <th>element</th>\n",
       "      <th>density</th>\n",
       "      <th>resistivity_77</th>\n",
       "      <th>resistivity_273</th>\n",
       "      <th>lattice_constant</th>\n",
       "    </tr>\n",
       "  </thead>\n",
       "  <tbody>\n",
       "    <tr>\n",
       "      <th>0</th>\n",
       "      <td>Ag</td>\n",
       "      <td>5.860000e+28</td>\n",
       "      <td>3.000000e-09</td>\n",
       "      <td>1.510000e-08</td>\n",
       "      <td>4.078200e-10</td>\n",
       "    </tr>\n",
       "    <tr>\n",
       "      <th>1</th>\n",
       "      <td>Au</td>\n",
       "      <td>5.900000e+28</td>\n",
       "      <td>5.000000e-09</td>\n",
       "      <td>2.040000e-08</td>\n",
       "      <td>4.085300e-10</td>\n",
       "    </tr>\n",
       "    <tr>\n",
       "      <th>2</th>\n",
       "      <td>Al</td>\n",
       "      <td>1.810000e+29</td>\n",
       "      <td>3.000000e-09</td>\n",
       "      <td>2.450000e-08</td>\n",
       "      <td>4.049500e-10</td>\n",
       "    </tr>\n",
       "  </tbody>\n",
       "</table>\n",
       "</div>"
      ],
      "text/plain": [
       "  element       density  resistivity_77  resistivity_273  lattice_constant\n",
       "0      Ag  5.860000e+28    3.000000e-09     1.510000e-08      4.078200e-10\n",
       "1      Au  5.900000e+28    5.000000e-09     2.040000e-08      4.085300e-10\n",
       "2      Al  1.810000e+29    3.000000e-09     2.450000e-08      4.049500e-10"
      ]
     },
     "execution_count": 3,
     "metadata": {},
     "output_type": "execute_result"
    }
   ],
   "source": [
    "data"
   ]
  },
  {
   "cell_type": "code",
   "execution_count": 4,
   "metadata": {},
   "outputs": [],
   "source": [
    "#Class for storing data\n",
    "\n",
    "class Element:\n",
    "    \n",
    "    def __init__(self, name, density, lattice_constant, resistivity_list, temperature_list):\n",
    "        self.name = name\n",
    "        self.density = density\n",
    "        self.lattice_constant = lattice_constant\n",
    "        self.resistivity = {}\n",
    "        if len(resistivity_list) == len(temperature_list):\n",
    "            for i in range(len(resistivity_list)):\n",
    "                self.resistivity[temperature_list[i]] = resistivity_list[i]"
   ]
  },
  {
   "cell_type": "code",
   "execution_count": 5,
   "metadata": {},
   "outputs": [],
   "source": [
    "#Units\n",
    "\n",
    "density_units = 10 ** 28 #[m^-3]\n",
    "lattice_units = 10 ** (-12) # [m]\n",
    "resistivity_units = 10 ** (-8) # [ohm * m]"
   ]
  },
  {
   "cell_type": "code",
   "execution_count": 6,
   "metadata": {},
   "outputs": [],
   "source": [
    "temperatures = [77, 273]\n",
    "\n",
    "ag = Element('Ag', data['density'][0], data['lattice_constant'][0], \n",
    "             [data['resistivity_77'][0], data['resistivity_273'][0]], temperatures)\n",
    "au = Element('Au', data['density'][1], data['lattice_constant'][1],\n",
    "             [data['resistivity_77'][1], data['resistivity_273'][1]], temperatures)\n",
    "al = Element('Al', data['density'][2], data['lattice_constant'][2],\n",
    "             [data['resistivity_77'][2], data['resistivity_273'][2]], temperatures)"
   ]
  },
  {
   "cell_type": "code",
   "execution_count": 7,
   "metadata": {},
   "outputs": [
    {
     "data": {
      "text/plain": [
       "{'name': 'Ag',\n",
       " 'density': 5.86e+28,\n",
       " 'lattice_constant': 4.0782e-10,\n",
       " 'resistivity': {77: 3e-09, 273: 1.51e-08}}"
      ]
     },
     "execution_count": 7,
     "metadata": {},
     "output_type": "execute_result"
    }
   ],
   "source": [
    "ag.__dict__"
   ]
  },
  {
   "cell_type": "code",
   "execution_count": 8,
   "metadata": {},
   "outputs": [],
   "source": [
    "elements = [ag, au, al]"
   ]
  },
  {
   "cell_type": "markdown",
   "metadata": {},
   "source": [
    "## Basic Theory\n",
    "\n",
    "Ohm's law:\n",
    "\n",
    "\\begin{equation}\n",
    "\\vec{j} = \\sigma \\vec{E}\n",
    "\\end{equation}\n",
    "\n",
    "In Drude model, electrical conductivity is given as:\n",
    "\n",
    "\\begin{equation}\n",
    "\\sigma = \\frac{ne^2\\tau}{m}\n",
    "\\end{equation}"
   ]
  },
  {
   "cell_type": "markdown",
   "metadata": {},
   "source": [
    "## Statement of problem\n",
    "\n",
    "Using Drude model, calculate scattering time and mean free path of electrons.\n",
    "\n",
    "### Formulas\n",
    "\n",
    "Using electrical conductivity from Drude model, we can obtain expression for scattering time:\n",
    "\n",
    "\\begin{equation}\n",
    "\\tau = \\frac{m}{\\rho n e^2}\n",
    "\\end{equation}\n",
    "\n",
    "Mean free path is given by:\n",
    "\n",
    "\\begin{equation}\n",
    "l = v \\tau\n",
    "\\end{equation}\n",
    "\n",
    "where $v$ can be estimated using equation:\n",
    "\n",
    "\\begin{equation}\n",
    "\\overline{E_k} = \\frac{1}{2}mv^2 = \\frac{3}{2} kT\n",
    "\\end{equation}\n",
    "\n",
    "So we get expression for mean free path:\n",
    "\n",
    "\\begin{equation}\n",
    "l = \\tau \\sqrt{\\frac{3kT}{m}}\n",
    "\\end{equation}"
   ]
  },
  {
   "cell_type": "code",
   "execution_count": 9,
   "metadata": {},
   "outputs": [],
   "source": [
    "from scipy.constants import e, k, m_e\n",
    "\n",
    "def tau(density, resistivity):\n",
    "    return m_e / (e ** 2 * density * resistivity)\n",
    "\n",
    "def mean_free_path(tau, temperature):\n",
    "    return tau * np.sqrt(3 * k * temperature / m_e)"
   ]
  },
  {
   "cell_type": "code",
   "execution_count": 10,
   "metadata": {},
   "outputs": [],
   "source": [
    "results_dict = {}"
   ]
  },
  {
   "cell_type": "code",
   "execution_count": 11,
   "metadata": {},
   "outputs": [],
   "source": [
    "for element in elements:\n",
    "    results_dict[element] = {}\n",
    "    results_dict[element]['element'] = element.name\n",
    "    for temperature in temperatures:\n",
    "        results_dict[element]['tau_' + str(temperature)] = tau(element.density, element.resistivity[temperature])\n",
    "        results_dict[element]['mfp_' + str(temperature)] = \\\n",
    "        mean_free_path(results_dict[element]['tau_' + str(temperature)], temperature)"
   ]
  },
  {
   "cell_type": "code",
   "execution_count": 12,
   "metadata": {},
   "outputs": [
    {
     "data": {
      "text/plain": [
       "{<__main__.Element at 0x7f6343534e48>: {'element': 'Ag',\n",
       "  'tau_77': 2.0185956722945247e-13,\n",
       "  'mfp_77': 1.194407162831284e-08,\n",
       "  'tau_273': 4.010454978068592e-14,\n",
       "  'mfp_273': 4.468200651380432e-09},\n",
       " <__main__.Element at 0x7f6343534d68>: {'element': 'Au',\n",
       "  'tau_77': 1.2029461667436522e-13,\n",
       "  'mfp_77': 7.11785692290643e-09,\n",
       "  'tau_273': 2.948397467508951e-14,\n",
       "  'mfp_273': 3.284921924543443e-09},\n",
       " <__main__.Element at 0x7f6343534e80>: {'element': 'Al',\n",
       "  'tau_77': 6.535342894831996e-14,\n",
       "  'mfp_77': 3.866975676348797e-09,\n",
       "  'tau_273': 8.002460687549382e-15,\n",
       "  'mfp_273': 8.915846269884966e-10}}"
      ]
     },
     "execution_count": 12,
     "metadata": {},
     "output_type": "execute_result"
    }
   ],
   "source": [
    "results_dict"
   ]
  },
  {
   "cell_type": "code",
   "execution_count": 13,
   "metadata": {},
   "outputs": [],
   "source": [
    "results = pd.DataFrame(results_dict)\n",
    "\n",
    "for i in range(len(elements)):\n",
    "    results = results.rename(index = str, columns = {elements[i]: i})"
   ]
  },
  {
   "cell_type": "code",
   "execution_count": 14,
   "metadata": {},
   "outputs": [
    {
     "data": {
      "text/html": [
       "<div>\n",
       "<style scoped>\n",
       "    .dataframe tbody tr th:only-of-type {\n",
       "        vertical-align: middle;\n",
       "    }\n",
       "\n",
       "    .dataframe tbody tr th {\n",
       "        vertical-align: top;\n",
       "    }\n",
       "\n",
       "    .dataframe thead th {\n",
       "        text-align: right;\n",
       "    }\n",
       "</style>\n",
       "<table border=\"1\" class=\"dataframe\">\n",
       "  <thead>\n",
       "    <tr style=\"text-align: right;\">\n",
       "      <th></th>\n",
       "      <th>0</th>\n",
       "      <th>1</th>\n",
       "      <th>2</th>\n",
       "    </tr>\n",
       "  </thead>\n",
       "  <tbody>\n",
       "    <tr>\n",
       "      <th>element</th>\n",
       "      <td>Ag</td>\n",
       "      <td>Au</td>\n",
       "      <td>Al</td>\n",
       "    </tr>\n",
       "    <tr>\n",
       "      <th>mfp_273</th>\n",
       "      <td>4.4682e-09</td>\n",
       "      <td>3.28492e-09</td>\n",
       "      <td>8.91585e-10</td>\n",
       "    </tr>\n",
       "    <tr>\n",
       "      <th>mfp_77</th>\n",
       "      <td>1.19441e-08</td>\n",
       "      <td>7.11786e-09</td>\n",
       "      <td>3.86698e-09</td>\n",
       "    </tr>\n",
       "    <tr>\n",
       "      <th>tau_273</th>\n",
       "      <td>4.01045e-14</td>\n",
       "      <td>2.9484e-14</td>\n",
       "      <td>8.00246e-15</td>\n",
       "    </tr>\n",
       "    <tr>\n",
       "      <th>tau_77</th>\n",
       "      <td>2.0186e-13</td>\n",
       "      <td>1.20295e-13</td>\n",
       "      <td>6.53534e-14</td>\n",
       "    </tr>\n",
       "  </tbody>\n",
       "</table>\n",
       "</div>"
      ],
      "text/plain": [
       "                   0            1            2\n",
       "element           Ag           Au           Al\n",
       "mfp_273   4.4682e-09  3.28492e-09  8.91585e-10\n",
       "mfp_77   1.19441e-08  7.11786e-09  3.86698e-09\n",
       "tau_273  4.01045e-14   2.9484e-14  8.00246e-15\n",
       "tau_77    2.0186e-13  1.20295e-13  6.53534e-14"
      ]
     },
     "execution_count": 14,
     "metadata": {},
     "output_type": "execute_result"
    }
   ],
   "source": [
    "results"
   ]
  },
  {
   "cell_type": "code",
   "execution_count": null,
   "metadata": {},
   "outputs": [],
   "source": []
  }
 ],
 "metadata": {
  "kernelspec": {
   "display_name": "Python 3",
   "language": "python",
   "name": "python3"
  },
  "language_info": {
   "codemirror_mode": {
    "name": "ipython",
    "version": 3
   },
   "file_extension": ".py",
   "mimetype": "text/x-python",
   "name": "python",
   "nbconvert_exporter": "python",
   "pygments_lexer": "ipython3",
   "version": "3.6.5"
  }
 },
 "nbformat": 4,
 "nbformat_minor": 2
}
