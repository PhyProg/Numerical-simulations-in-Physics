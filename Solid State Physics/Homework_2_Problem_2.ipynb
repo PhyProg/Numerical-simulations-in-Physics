{
 "cells": [
  {
   "cell_type": "code",
   "execution_count": 9,
   "metadata": {},
   "outputs": [],
   "source": [
    "import numpy as np\n",
    "import matplotlib.pyplot as plt\n",
    "\n",
    "from scipy.stats import linregress"
   ]
  },
  {
   "cell_type": "code",
   "execution_count": 89,
   "metadata": {},
   "outputs": [],
   "source": [
    "a = np.pi / 360 * np.array([42.2, 49.2, 72.0, 87.3])\n",
    "b = np.pi / 360 * np.array([28.8, 41.0, 50.8, 59.6])\n",
    "c = np.pi / 360 * np.array([42.8, 73.2, 89.0, 115.0])\n",
    "\n",
    "degrees = [a, b, c]"
   ]
  },
  {
   "cell_type": "markdown",
   "metadata": {},
   "source": [
    "$d_{h, k, l} = \\frac{\\lambda}{2 \\sin \\theta} = \\frac{a}{\\sqrt{h^2 + k^2 + l^2}}$\n",
    "\n",
    "BCC $h + k + l$ is even\n",
    "\n",
    "FCC $h, k, l$ ara either odd or even\n",
    "\n",
    "Diamond..."
   ]
  },
  {
   "cell_type": "code",
   "execution_count": 90,
   "metadata": {},
   "outputs": [],
   "source": [
    "def get_all_ratios(arr):\n",
    "    arr = np.array(arr)\n",
    "    perms = sum(list(get_all_permutations(arr.shape[0])), [])\n",
    "    #print(perms)\n",
    "    for perm in perms:\n",
    "        yield (arr[perm[0]] / arr[perm[1]])"
   ]
  },
  {
   "cell_type": "code",
   "execution_count": 91,
   "metadata": {},
   "outputs": [],
   "source": [
    "def get_all_permutations(l):\n",
    "    for i in range(l):\n",
    "        yield [(i, j + i + 1) for j in range(l - i - 1)]"
   ]
  },
  {
   "cell_type": "code",
   "execution_count": 92,
   "metadata": {},
   "outputs": [],
   "source": [
    "ratios = [list(get_all_ratios(np.sin(deg) ** 2)) for deg in degrees]"
   ]
  },
  {
   "cell_type": "code",
   "execution_count": 93,
   "metadata": {},
   "outputs": [
    {
     "data": {
      "text/plain": [
       "[[0.7478673189962223,\n",
       "  0.37511111214491555,\n",
       "  0.27200877150053004,\n",
       "  0.5015744138256834,\n",
       "  0.36371260595477906,\n",
       "  0.7251418651533994],\n",
       " [0.5042729351944293,\n",
       "  0.3361499185992957,\n",
       "  0.25040845096642766,\n",
       "  0.6666031332212755,\n",
       "  0.4965732512887675,\n",
       "  0.7449308689701771],\n",
       " [0.3745176427761104,\n",
       "  0.2709997329815122,\n",
       "  0.1871690689330239,\n",
       "  0.7235967068806901,\n",
       "  0.4997603518638908,\n",
       "  0.6906614514848718]]"
      ]
     },
     "execution_count": 93,
     "metadata": {},
     "output_type": "execute_result"
    }
   ],
   "source": [
    "ratios"
   ]
  },
  {
   "cell_type": "code",
   "execution_count": 108,
   "metadata": {},
   "outputs": [],
   "source": [
    "fcc = np.array([3, 4, 8, 11])\n",
    "bcc = np.array([2, 4, 6, 8])\n",
    "diamond = np.array([3, 8, 11, 16])"
   ]
  },
  {
   "cell_type": "code",
   "execution_count": 109,
   "metadata": {},
   "outputs": [
    {
     "data": {
      "text/plain": [
       "[0.75, 0.375, 0.2727272727272727, 0.5, 0.36363636363636365, 0.7272727272727273]"
      ]
     },
     "execution_count": 109,
     "metadata": {},
     "output_type": "execute_result"
    }
   ],
   "source": [
    "list(get_all_ratios(fcc))"
   ]
  },
  {
   "cell_type": "code",
   "execution_count": 110,
   "metadata": {},
   "outputs": [
    {
     "data": {
      "text/plain": [
       "[0.5, 0.3333333333333333, 0.25, 0.6666666666666666, 0.5, 0.75]"
      ]
     },
     "execution_count": 110,
     "metadata": {},
     "output_type": "execute_result"
    }
   ],
   "source": [
    "list(get_all_ratios(bcc))"
   ]
  },
  {
   "cell_type": "code",
   "execution_count": 111,
   "metadata": {},
   "outputs": [
    {
     "data": {
      "text/plain": [
       "[0.375, 0.2727272727272727, 0.1875, 0.7272727272727273, 0.5, 0.6875]"
      ]
     },
     "execution_count": 111,
     "metadata": {},
     "output_type": "execute_result"
    }
   ],
   "source": [
    "list(get_all_ratios(diamond))"
   ]
  },
  {
   "cell_type": "markdown",
   "metadata": {},
   "source": [
    "Comparing first elements, we conclude that :\n",
    "\n",
    "$A = FCC$\n",
    "\n",
    "$B = BCC$\n",
    "\n",
    "$C = Diamond$"
   ]
  },
  {
   "cell_type": "code",
   "execution_count": 100,
   "metadata": {},
   "outputs": [],
   "source": [
    "def lattice_constant(lamb, n, theta):\n",
    "    return lamb / 2 * np.sqrt(n) / np.sin(theta)\n",
    "\n",
    "lamb = 1.5 * 10 ** -10"
   ]
  },
  {
   "cell_type": "code",
   "execution_count": 105,
   "metadata": {},
   "outputs": [
    {
     "data": {
      "text/plain": [
       "array([3.60847118e-10, 3.60333705e-10, 3.60900573e-10, 3.60371477e-10])"
      ]
     },
     "execution_count": 105,
     "metadata": {},
     "output_type": "execute_result"
    }
   ],
   "source": [
    "a_a = lattice_constant(lamb, fcc, a)\n",
    "a_a"
   ]
  },
  {
   "cell_type": "code",
   "execution_count": 104,
   "metadata": {},
   "outputs": [
    {
     "data": {
      "text/plain": [
       "(3.606132181626314e-10, 2.616525346820743e-13)"
      ]
     },
     "execution_count": 104,
     "metadata": {},
     "output_type": "execute_result"
    }
   ],
   "source": [
    "np.mean(a_a), np.var(a_a) ** .5"
   ]
  },
  {
   "cell_type": "markdown",
   "metadata": {},
   "source": [
    "For $A$:\n",
    "\n",
    "$a = (3.606 \\pm 0.006) A$"
   ]
  },
  {
   "cell_type": "code",
   "execution_count": 106,
   "metadata": {},
   "outputs": [
    {
     "data": {
      "text/plain": [
       "array([4.26499117e-10, 4.28317643e-10, 4.28297233e-10, 4.26847382e-10])"
      ]
     },
     "execution_count": 106,
     "metadata": {},
     "output_type": "execute_result"
    }
   ],
   "source": [
    "a_b = lattice_constant(lamb, bcc, b)\n",
    "a_b"
   ]
  },
  {
   "cell_type": "code",
   "execution_count": 107,
   "metadata": {},
   "outputs": [
    {
     "data": {
      "text/plain": [
       "(4.2749034361941377e-10, 8.263510549588644e-13)"
      ]
     },
     "execution_count": 107,
     "metadata": {},
     "output_type": "execute_result"
    }
   ],
   "source": [
    "np.mean(a_b), np.var(a_b) ** .5"
   ]
  },
  {
   "cell_type": "markdown",
   "metadata": {},
   "source": [
    "For $B$:\n",
    "\n",
    "$a = (4.27 \\pm 0.02) A$"
   ]
  },
  {
   "cell_type": "code",
   "execution_count": 115,
   "metadata": {},
   "outputs": [
    {
     "data": {
      "text/plain": [
       "array([3.56021035e-10, 3.55791989e-10, 3.54891670e-10, 3.55706714e-10])"
      ]
     },
     "execution_count": 115,
     "metadata": {},
     "output_type": "execute_result"
    }
   ],
   "source": [
    "a_c = lattice_constant(lamb, diamond, c)\n",
    "a_c"
   ]
  },
  {
   "cell_type": "code",
   "execution_count": 116,
   "metadata": {},
   "outputs": [
    {
     "data": {
      "text/plain": [
       "(3.55602852234001e-10, 4.26385277907221e-13)"
      ]
     },
     "execution_count": 116,
     "metadata": {},
     "output_type": "execute_result"
    }
   ],
   "source": [
    "np.mean(a_c), np.var(a_c) ** .5"
   ]
  },
  {
   "cell_type": "markdown",
   "metadata": {},
   "source": [
    "For $C$:\n",
    "\n",
    "$a = (3.56 \\pm 0.01) A$"
   ]
  },
  {
   "cell_type": "code",
   "execution_count": 117,
   "metadata": {},
   "outputs": [],
   "source": [
    "def reverse_rel(lamb, n, a):\n",
    "    return 2 * np.arcsin(lamb / 2 * np.sqrt(n) / a)"
   ]
  },
  {
   "cell_type": "code",
   "execution_count": 120,
   "metadata": {},
   "outputs": [
    {
     "data": {
      "text/plain": [
       "array([42.8       , 49.8706111 , 73.41604843, 88.74225978])"
      ]
     },
     "execution_count": 120,
     "metadata": {},
     "output_type": "execute_result"
    }
   ],
   "source": [
    "angles = reverse_rel(lamb, fcc, a_c)\n",
    "angles * 180 / np.pi"
   ]
  },
  {
   "cell_type": "markdown",
   "metadata": {},
   "source": [
    "3) Diffraction will occur at angles:\n",
    "\n",
    "$42.8, 49.87, 73.42, 88.74$\n",
    "\n",
    "between $\\vec{k}$ and $\\vec{k'}$"
   ]
  },
  {
   "cell_type": "code",
   "execution_count": null,
   "metadata": {},
   "outputs": [],
   "source": []
  }
 ],
 "metadata": {
  "kernelspec": {
   "display_name": "Python 3",
   "language": "python",
   "name": "python3"
  },
  "language_info": {
   "codemirror_mode": {
    "name": "ipython",
    "version": 3
   },
   "file_extension": ".py",
   "mimetype": "text/x-python",
   "name": "python",
   "nbconvert_exporter": "python",
   "pygments_lexer": "ipython3",
   "version": "3.7.1"
  }
 },
 "nbformat": 4,
 "nbformat_minor": 2
}
