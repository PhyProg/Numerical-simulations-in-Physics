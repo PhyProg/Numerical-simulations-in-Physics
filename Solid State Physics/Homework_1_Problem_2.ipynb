{
 "cells": [
  {
   "cell_type": "markdown",
   "metadata": {},
   "source": [
    "# Homework 1 Problem 2"
   ]
  },
  {
   "cell_type": "code",
   "execution_count": 1,
   "metadata": {},
   "outputs": [],
   "source": [
    "import pandas as pd\n",
    "import numpy as np\n",
    "import matplotlib.pyplot as plt"
   ]
  },
  {
   "cell_type": "code",
   "execution_count": 2,
   "metadata": {},
   "outputs": [],
   "source": [
    "from scipy.constants import e, m_e, k, pi, epsilon_0, c\n",
    "\n",
    "temperature = 273\n",
    "concentration = 8.47 * 10 ** 28"
   ]
  },
  {
   "cell_type": "code",
   "execution_count": 3,
   "metadata": {},
   "outputs": [],
   "source": [
    "def plasma_frequency(concentration):\n",
    "    return np.sqrt((concentration * e ** 2) / (m_e * epsilon_0))"
   ]
  },
  {
   "cell_type": "code",
   "execution_count": 4,
   "metadata": {},
   "outputs": [
    {
     "data": {
      "text/plain": [
       "1.6418490871041346e+16"
      ]
     },
     "execution_count": 4,
     "metadata": {},
     "output_type": "execute_result"
    }
   ],
   "source": [
    "omega_p = plasma_frequency(concentration)\n",
    "omega_p"
   ]
  },
  {
   "cell_type": "markdown",
   "metadata": {},
   "source": [
    "$\\omega_p = 1.64185 \\cdot 10^{16} s^{-1}$"
   ]
  },
  {
   "cell_type": "code",
   "execution_count": 5,
   "metadata": {},
   "outputs": [],
   "source": [
    "def tau(density, resistivity):\n",
    "    return m_e / (e ** 2 * density * resistivity)\n",
    "\n",
    "tau_ = tau(density = 8.47 * 10 ** (28), resistivity = 1.56 * 10 ** (-8))"
   ]
  },
  {
   "cell_type": "code",
   "execution_count": 6,
   "metadata": {},
   "outputs": [
    {
     "data": {
      "text/plain": [
       "2.685716701399944e-14"
      ]
     },
     "execution_count": 6,
     "metadata": {},
     "output_type": "execute_result"
    }
   ],
   "source": [
    "tau_"
   ]
  },
  {
   "cell_type": "code",
   "execution_count": 7,
   "metadata": {},
   "outputs": [
    {
     "data": {
      "text/plain": [
       "440.9541514413826"
      ]
     },
     "execution_count": 7,
     "metadata": {},
     "output_type": "execute_result"
    }
   ],
   "source": [
    "tau_ * omega_p"
   ]
  },
  {
   "cell_type": "markdown",
   "metadata": {},
   "source": [
    "$\\tau \\cdot \\omega_p \\approx 500 >> 1$"
   ]
  },
  {
   "cell_type": "markdown",
   "metadata": {},
   "source": [
    "In Drude model, if $\\omega_p \\tau >> 1$, dielectric constant is given by:\n",
    "\n",
    "\\begin{equation}\n",
    "\\epsilon(\\omega) = 1 - \\frac{\\omega_p^2}{\\omega^2}\n",
    "\\end{equation}\n",
    "\n",
    "For frequencies $\\omega >> \\omega_p$, we have $\\epsilon(\\omega) \\approx 1$, therefore metal is transparent.\n",
    "\n",
    "Equivalently, for $\\lambda << \\lambda_p = \\frac{2 \\pi c}{\\omega_p}$, metal is transparent"
   ]
  },
  {
   "cell_type": "code",
   "execution_count": 8,
   "metadata": {},
   "outputs": [
    {
     "data": {
      "text/plain": [
       "1.1472744858854266e-07"
      ]
     },
     "execution_count": 8,
     "metadata": {},
     "output_type": "execute_result"
    }
   ],
   "source": [
    "2 * pi * c / omega_p"
   ]
  },
  {
   "cell_type": "markdown",
   "metadata": {},
   "source": [
    "Therefore, limiting values are:\n",
    "\n",
    "$\\omega_p = 1.64185 \\cdot 10^{16} s^{-1}$\n",
    "\n",
    "$\\lambda_p = 1.14727 \\cdot 10^{-7} m$"
   ]
  },
  {
   "cell_type": "code",
   "execution_count": null,
   "metadata": {},
   "outputs": [],
   "source": []
  }
 ],
 "metadata": {
  "kernelspec": {
   "display_name": "Python 3",
   "language": "python",
   "name": "python3"
  },
  "language_info": {
   "codemirror_mode": {
    "name": "ipython",
    "version": 3
   },
   "file_extension": ".py",
   "mimetype": "text/x-python",
   "name": "python",
   "nbconvert_exporter": "python",
   "pygments_lexer": "ipython3",
   "version": "3.6.5"
  }
 },
 "nbformat": 4,
 "nbformat_minor": 2
}
